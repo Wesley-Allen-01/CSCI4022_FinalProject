{
 "cells": [
  {
   "cell_type": "code",
   "execution_count": 2,
   "metadata": {},
   "outputs": [],
   "source": [
    "import pandas as pd\n",
    "import numpy as np\n",
    "from sklearn.feature_extraction.text import TfidfVectorizer\n",
    "from sklearn.linear_model import LogisticRegression\n",
    "from sklearn.decomposition import PCA\n",
    "from sklearn.metrics import accuracy_score\n"
   ]
  },
  {
   "cell_type": "code",
   "execution_count": 2,
   "metadata": {},
   "outputs": [
    {
     "data": {
      "text/html": [
       "<div>\n",
       "<style scoped>\n",
       "    .dataframe tbody tr th:only-of-type {\n",
       "        vertical-align: middle;\n",
       "    }\n",
       "\n",
       "    .dataframe tbody tr th {\n",
       "        vertical-align: top;\n",
       "    }\n",
       "\n",
       "    .dataframe thead th {\n",
       "        text-align: right;\n",
       "    }\n",
       "</style>\n",
       "<table border=\"1\" class=\"dataframe\">\n",
       "  <thead>\n",
       "    <tr style=\"text-align: right;\">\n",
       "      <th></th>\n",
       "      <th>topic</th>\n",
       "      <th>source</th>\n",
       "      <th>bias</th>\n",
       "      <th>url</th>\n",
       "      <th>title</th>\n",
       "      <th>date</th>\n",
       "      <th>authors</th>\n",
       "      <th>content</th>\n",
       "      <th>content_original</th>\n",
       "      <th>source_url</th>\n",
       "      <th>bias_text</th>\n",
       "      <th>ID</th>\n",
       "    </tr>\n",
       "  </thead>\n",
       "  <tbody>\n",
       "    <tr>\n",
       "      <th>0</th>\n",
       "      <td>elections</td>\n",
       "      <td>The Daily Wire</td>\n",
       "      <td>2</td>\n",
       "      <td>https://www.dailywire.com/news/52178/tulsi-gab...</td>\n",
       "      <td>Tulsi Gabbard Qualifies For Upcoming President...</td>\n",
       "      <td>NaN</td>\n",
       "      <td>NaN</td>\n",
       "      <td>Rep. Tulsi Gabbard ( D-HI ) has officially met...</td>\n",
       "      <td>Rep. Tulsi Gabbard (D-HI) has officially met t...</td>\n",
       "      <td>www.dailywire.com</td>\n",
       "      <td>right</td>\n",
       "      <td>diXbkrezTxsgcoJp</td>\n",
       "    </tr>\n",
       "    <tr>\n",
       "      <th>1</th>\n",
       "      <td>elections</td>\n",
       "      <td>Washington Times</td>\n",
       "      <td>2</td>\n",
       "      <td>https://www.washingtontimes.com/news/2019/jun/...</td>\n",
       "      <td>Candidate Hillary Clinton endorsed idea of pol...</td>\n",
       "      <td>2019-06-13</td>\n",
       "      <td>Rowan Scarborough</td>\n",
       "      <td>Hillary Clinton has endorsed the idea of obtai...</td>\n",
       "      <td>Hillary Clinton has endorsed the idea of obtai...</td>\n",
       "      <td>www.washingtontimes.com</td>\n",
       "      <td>right</td>\n",
       "      <td>0ERzAbVMeKjFGiox</td>\n",
       "    </tr>\n",
       "    <tr>\n",
       "      <th>2</th>\n",
       "      <td>elections</td>\n",
       "      <td>The Hill</td>\n",
       "      <td>1</td>\n",
       "      <td>https://thehill.com/homenews/campaign/431181-t...</td>\n",
       "      <td>Trump unleashing digital juggernaut ahead of 2020</td>\n",
       "      <td>2019-02-25</td>\n",
       "      <td>NaN</td>\n",
       "      <td>President Trump Donald John TrumpSessions says...</td>\n",
       "      <td>President Trump Donald John TrumpSessions says...</td>\n",
       "      <td>www.thehill.com</td>\n",
       "      <td>center</td>\n",
       "      <td>641HsrEBG9vsQjQT</td>\n",
       "    </tr>\n",
       "    <tr>\n",
       "      <th>3</th>\n",
       "      <td>elections</td>\n",
       "      <td>Reuters</td>\n",
       "      <td>1</td>\n",
       "      <td>https://www.reuters.com/article/us-usa-electio...</td>\n",
       "      <td>Russia looms large as U.S. election officials ...</td>\n",
       "      <td>2018-02-19</td>\n",
       "      <td>Dustin Volz</td>\n",
       "      <td>WASHINGTON ( ███ ) - Ten months before the Uni...</td>\n",
       "      <td>WASHINGTON (Reuters) - Ten months before the U...</td>\n",
       "      <td>www.reuters.com</td>\n",
       "      <td>center</td>\n",
       "      <td>yJimQY11fGmT0Dyw</td>\n",
       "    </tr>\n",
       "    <tr>\n",
       "      <th>4</th>\n",
       "      <td>elections</td>\n",
       "      <td>Salon</td>\n",
       "      <td>0</td>\n",
       "      <td>http://www.salon.com/2016/03/11/the_republican...</td>\n",
       "      <td>After the latest debacle, we agree with Donald...</td>\n",
       "      <td>2016-03-11</td>\n",
       "      <td>Elias Isquith</td>\n",
       "      <td>If you ’ re not a masochist — or even if you a...</td>\n",
       "      <td>If you’re not a masochist — or even if you are...</td>\n",
       "      <td>www.salon.com</td>\n",
       "      <td>left</td>\n",
       "      <td>bQm3oIyjS1aGUXP4</td>\n",
       "    </tr>\n",
       "  </tbody>\n",
       "</table>\n",
       "</div>"
      ],
      "text/plain": [
       "       topic            source  bias  \\\n",
       "0  elections    The Daily Wire     2   \n",
       "1  elections  Washington Times     2   \n",
       "2  elections          The Hill     1   \n",
       "3  elections           Reuters     1   \n",
       "4  elections             Salon     0   \n",
       "\n",
       "                                                 url  \\\n",
       "0  https://www.dailywire.com/news/52178/tulsi-gab...   \n",
       "1  https://www.washingtontimes.com/news/2019/jun/...   \n",
       "2  https://thehill.com/homenews/campaign/431181-t...   \n",
       "3  https://www.reuters.com/article/us-usa-electio...   \n",
       "4  http://www.salon.com/2016/03/11/the_republican...   \n",
       "\n",
       "                                               title        date  \\\n",
       "0  Tulsi Gabbard Qualifies For Upcoming President...         NaN   \n",
       "1  Candidate Hillary Clinton endorsed idea of pol...  2019-06-13   \n",
       "2  Trump unleashing digital juggernaut ahead of 2020  2019-02-25   \n",
       "3  Russia looms large as U.S. election officials ...  2018-02-19   \n",
       "4  After the latest debacle, we agree with Donald...  2016-03-11   \n",
       "\n",
       "             authors                                            content  \\\n",
       "0                NaN  Rep. Tulsi Gabbard ( D-HI ) has officially met...   \n",
       "1  Rowan Scarborough  Hillary Clinton has endorsed the idea of obtai...   \n",
       "2                NaN  President Trump Donald John TrumpSessions says...   \n",
       "3        Dustin Volz  WASHINGTON ( ███ ) - Ten months before the Uni...   \n",
       "4      Elias Isquith  If you ’ re not a masochist — or even if you a...   \n",
       "\n",
       "                                    content_original               source_url  \\\n",
       "0  Rep. Tulsi Gabbard (D-HI) has officially met t...        www.dailywire.com   \n",
       "1  Hillary Clinton has endorsed the idea of obtai...  www.washingtontimes.com   \n",
       "2  President Trump Donald John TrumpSessions says...          www.thehill.com   \n",
       "3  WASHINGTON (Reuters) - Ten months before the U...          www.reuters.com   \n",
       "4  If you’re not a masochist — or even if you are...            www.salon.com   \n",
       "\n",
       "  bias_text                ID  \n",
       "0     right  diXbkrezTxsgcoJp  \n",
       "1     right  0ERzAbVMeKjFGiox  \n",
       "2    center  641HsrEBG9vsQjQT  \n",
       "3    center  yJimQY11fGmT0Dyw  \n",
       "4      left  bQm3oIyjS1aGUXP4  "
      ]
     },
     "execution_count": 2,
     "metadata": {},
     "output_type": "execute_result"
    }
   ],
   "source": [
    "train_data = pd.read_csv('data/elections/train/elections_train.csv')\n",
    "train_data.head()"
   ]
  },
  {
   "cell_type": "code",
   "execution_count": 3,
   "metadata": {},
   "outputs": [],
   "source": [
    "train_data['content'] = train_data['content'].apply(lambda x: x.lower())"
   ]
  },
  {
   "cell_type": "code",
   "execution_count": 4,
   "metadata": {},
   "outputs": [],
   "source": [
    "train_data = train_data[(train_data['bias'] == 0) | (train_data['bias'] == 2)]"
   ]
  },
  {
   "cell_type": "code",
   "execution_count": 5,
   "metadata": {},
   "outputs": [],
   "source": [
    "x_train = train_data['content'].values\n",
    "y_train = train_data['bias'].values"
   ]
  },
  {
   "cell_type": "code",
   "execution_count": 6,
   "metadata": {},
   "outputs": [],
   "source": [
    "# TfidfVectorizer = TfidfVectorizer(stop_words='english')\n",
    "# x_train = TfidfVectorizer.fit_transform(x_train)"
   ]
  },
  {
   "cell_type": "code",
   "execution_count": 7,
   "metadata": {},
   "outputs": [],
   "source": [
    "x_train = x_train.toarray()\n",
    "pca = PCA(n_components=400)\n",
    "x_train = pca.fit_transform(x_train)"
   ]
  },
  {
   "cell_type": "code",
   "execution_count": 8,
   "metadata": {},
   "outputs": [
    {
     "data": {
      "text/html": [
       "<style>#sk-container-id-1 {color: black;}#sk-container-id-1 pre{padding: 0;}#sk-container-id-1 div.sk-toggleable {background-color: white;}#sk-container-id-1 label.sk-toggleable__label {cursor: pointer;display: block;width: 100%;margin-bottom: 0;padding: 0.3em;box-sizing: border-box;text-align: center;}#sk-container-id-1 label.sk-toggleable__label-arrow:before {content: \"▸\";float: left;margin-right: 0.25em;color: #696969;}#sk-container-id-1 label.sk-toggleable__label-arrow:hover:before {color: black;}#sk-container-id-1 div.sk-estimator:hover label.sk-toggleable__label-arrow:before {color: black;}#sk-container-id-1 div.sk-toggleable__content {max-height: 0;max-width: 0;overflow: hidden;text-align: left;background-color: #f0f8ff;}#sk-container-id-1 div.sk-toggleable__content pre {margin: 0.2em;color: black;border-radius: 0.25em;background-color: #f0f8ff;}#sk-container-id-1 input.sk-toggleable__control:checked~div.sk-toggleable__content {max-height: 200px;max-width: 100%;overflow: auto;}#sk-container-id-1 input.sk-toggleable__control:checked~label.sk-toggleable__label-arrow:before {content: \"▾\";}#sk-container-id-1 div.sk-estimator input.sk-toggleable__control:checked~label.sk-toggleable__label {background-color: #d4ebff;}#sk-container-id-1 div.sk-label input.sk-toggleable__control:checked~label.sk-toggleable__label {background-color: #d4ebff;}#sk-container-id-1 input.sk-hidden--visually {border: 0;clip: rect(1px 1px 1px 1px);clip: rect(1px, 1px, 1px, 1px);height: 1px;margin: -1px;overflow: hidden;padding: 0;position: absolute;width: 1px;}#sk-container-id-1 div.sk-estimator {font-family: monospace;background-color: #f0f8ff;border: 1px dotted black;border-radius: 0.25em;box-sizing: border-box;margin-bottom: 0.5em;}#sk-container-id-1 div.sk-estimator:hover {background-color: #d4ebff;}#sk-container-id-1 div.sk-parallel-item::after {content: \"\";width: 100%;border-bottom: 1px solid gray;flex-grow: 1;}#sk-container-id-1 div.sk-label:hover label.sk-toggleable__label {background-color: #d4ebff;}#sk-container-id-1 div.sk-serial::before {content: \"\";position: absolute;border-left: 1px solid gray;box-sizing: border-box;top: 0;bottom: 0;left: 50%;z-index: 0;}#sk-container-id-1 div.sk-serial {display: flex;flex-direction: column;align-items: center;background-color: white;padding-right: 0.2em;padding-left: 0.2em;position: relative;}#sk-container-id-1 div.sk-item {position: relative;z-index: 1;}#sk-container-id-1 div.sk-parallel {display: flex;align-items: stretch;justify-content: center;background-color: white;position: relative;}#sk-container-id-1 div.sk-item::before, #sk-container-id-1 div.sk-parallel-item::before {content: \"\";position: absolute;border-left: 1px solid gray;box-sizing: border-box;top: 0;bottom: 0;left: 50%;z-index: -1;}#sk-container-id-1 div.sk-parallel-item {display: flex;flex-direction: column;z-index: 1;position: relative;background-color: white;}#sk-container-id-1 div.sk-parallel-item:first-child::after {align-self: flex-end;width: 50%;}#sk-container-id-1 div.sk-parallel-item:last-child::after {align-self: flex-start;width: 50%;}#sk-container-id-1 div.sk-parallel-item:only-child::after {width: 0;}#sk-container-id-1 div.sk-dashed-wrapped {border: 1px dashed gray;margin: 0 0.4em 0.5em 0.4em;box-sizing: border-box;padding-bottom: 0.4em;background-color: white;}#sk-container-id-1 div.sk-label label {font-family: monospace;font-weight: bold;display: inline-block;line-height: 1.2em;}#sk-container-id-1 div.sk-label-container {text-align: center;}#sk-container-id-1 div.sk-container {/* jupyter's `normalize.less` sets `[hidden] { display: none; }` but bootstrap.min.css set `[hidden] { display: none !important; }` so we also need the `!important` here to be able to override the default hidden behavior on the sphinx rendered scikit-learn.org. See: https://github.com/scikit-learn/scikit-learn/issues/21755 */display: inline-block !important;position: relative;}#sk-container-id-1 div.sk-text-repr-fallback {display: none;}</style><div id=\"sk-container-id-1\" class=\"sk-top-container\"><div class=\"sk-text-repr-fallback\"><pre>LogisticRegression()</pre><b>In a Jupyter environment, please rerun this cell to show the HTML representation or trust the notebook. <br />On GitHub, the HTML representation is unable to render, please try loading this page with nbviewer.org.</b></div><div class=\"sk-container\" hidden><div class=\"sk-item\"><div class=\"sk-estimator sk-toggleable\"><input class=\"sk-toggleable__control sk-hidden--visually\" id=\"sk-estimator-id-1\" type=\"checkbox\" checked><label for=\"sk-estimator-id-1\" class=\"sk-toggleable__label sk-toggleable__label-arrow\">LogisticRegression</label><div class=\"sk-toggleable__content\"><pre>LogisticRegression()</pre></div></div></div></div></div>"
      ],
      "text/plain": [
       "LogisticRegression()"
      ]
     },
     "execution_count": 8,
     "metadata": {},
     "output_type": "execute_result"
    }
   ],
   "source": [
    "lr = LogisticRegression()\n",
    "lr.fit(x_train, y_train)"
   ]
  },
  {
   "cell_type": "code",
   "execution_count": 9,
   "metadata": {},
   "outputs": [],
   "source": [
    "test_data = pd.read_csv('data/elections/test/elections_test.csv')\n",
    "test_data = test_data[(test_data['bias'] == 0) | (test_data['bias'] == 2)]\n",
    "test_data['content'] = test_data['content'].apply(lambda x: x.lower())\n",
    "x_test = test_data['content'].values\n",
    "y_test = test_data['bias'].values"
   ]
  },
  {
   "cell_type": "code",
   "execution_count": 10,
   "metadata": {},
   "outputs": [],
   "source": [
    "x_test = TfidfVectorizer.transform(x_test)\n",
    "x_test = x_test.toarray()\n",
    "x_test = pca.transform(x_test)"
   ]
  },
  {
   "cell_type": "code",
   "execution_count": 11,
   "metadata": {},
   "outputs": [],
   "source": [
    "y_pred = lr.predict(x_test)"
   ]
  },
  {
   "cell_type": "code",
   "execution_count": 12,
   "metadata": {},
   "outputs": [
    {
     "data": {
      "text/plain": [
       "0.6558194077982996"
      ]
     },
     "execution_count": 12,
     "metadata": {},
     "output_type": "execute_result"
    }
   ],
   "source": [
    "accuracy_score(y_test, y_pred)"
   ]
  },
  {
   "cell_type": "markdown",
   "metadata": {},
   "source": [
    "## Running experiment on top 5 categories"
   ]
  },
  {
   "cell_type": "code",
   "execution_count": 13,
   "metadata": {},
   "outputs": [],
   "source": [
    "urls = ['data/elections', 'data/politics', 'data/white_house', 'data/immigration', 'data/healthcare']\n",
    "import pandas as pd\n",
    "import numpy as np\n",
    "from sklearn.feature_extraction.text import TfidfVectorizer\n",
    "from sklearn.linear_model import LogisticRegression\n",
    "from sklearn.decomposition import PCA\n",
    "from sklearn.metrics import accuracy_score\n"
   ]
  },
  {
   "cell_type": "code",
   "execution_count": 19,
   "metadata": {},
   "outputs": [],
   "source": [
    "def preprocess_data(url):\n",
    "    train_data = pd.read_csv(f'{url}/train/{url.split(\"/\")[1]}_train.csv')\n",
    "    train_data = train_data[(train_data['bias'] == 0) | (train_data['bias'] == 2)]\n",
    "    train_data['content'] = train_data['content'].apply(lambda x: x.lower())\n",
    "    \n",
    "    test_data = pd.read_csv(f'{url}/test/{url.split(\"/\")[1]}_test.csv')\n",
    "    test_data = test_data[(test_data['bias'] == 0) | (test_data['bias'] == 2)]\n",
    "    test_data['content'] = test_data['content'].apply(lambda x: x.lower())\n",
    "    \n",
    "    tfid = TfidfVectorizer(stop_words='english')\n",
    "    \n",
    "    x_train = train_data['content'].values\n",
    "    x_train = tfid.fit_transform(x_train)\n",
    "    y_train = train_data['bias'].values\n",
    "    \n",
    "    x_test = test_data['content'].values\n",
    "    x_test = tfid.transform(x_test)\n",
    "    y_test = test_data['bias'].values\n",
    "    \n",
    "    return x_train, y_train, x_test, y_test\n",
    "    "
   ]
  },
  {
   "cell_type": "code",
   "execution_count": 20,
   "metadata": {},
   "outputs": [],
   "source": [
    "def train_model(x_train, y_train):\n",
    "    lr = LogisticRegression()\n",
    "    lr.fit(x_train, y_train)\n",
    "    return lr"
   ]
  },
  {
   "cell_type": "code",
   "execution_count": 21,
   "metadata": {},
   "outputs": [],
   "source": [
    "def predict_on_test_data(model, x_test, y_test):\n",
    "    y_pred = model.predict(x_test)\n",
    "    return y_pred, accuracy_score(y_test, y_pred)"
   ]
  },
  {
   "cell_type": "code",
   "execution_count": 22,
   "metadata": {},
   "outputs": [],
   "source": [
    "def runExperiment(url):\n",
    "    x_train, y_train, x_test, y_test = preprocess_data(url)\n",
    "    model = train_model(x_train, y_train)\n",
    "    y_pred, accuracy = predict_on_test_data(model, x_test, y_test)\n",
    "    return accuracy"
   ]
  },
  {
   "cell_type": "code",
   "execution_count": 23,
   "metadata": {},
   "outputs": [
    {
     "name": "stdout",
     "output_type": "stream",
     "text": [
      "elections Accuracy: 0.6579\n",
      "politics Accuracy: 0.6619\n",
      "white_house Accuracy: 0.6451\n",
      "immigration Accuracy: 0.6623\n",
      "healthcare Accuracy: 0.6235\n",
      "Average Accuracy: 0.6501\n"
     ]
    }
   ],
   "source": [
    "avg_accuracy = 0\n",
    "for url in urls:\n",
    "    topic = url.split(\"/\")[1]\n",
    "    accuracy = runExperiment(url)\n",
    "    avg_accuracy += accuracy\n",
    "    print(f'{topic} Accuracy: {accuracy:.4f}')\n",
    "    \n",
    "avg_accuracy /= len(urls)\n",
    "print(f'Average Accuracy: {avg_accuracy:.4f}')"
   ]
  }
 ],
 "metadata": {
  "kernelspec": {
   "display_name": "CSCI_4022",
   "language": "python",
   "name": "python3"
  },
  "language_info": {
   "codemirror_mode": {
    "name": "ipython",
    "version": 3
   },
   "file_extension": ".py",
   "mimetype": "text/x-python",
   "name": "python",
   "nbconvert_exporter": "python",
   "pygments_lexer": "ipython3",
   "version": "3.11.7"
  }
 },
 "nbformat": 4,
 "nbformat_minor": 2
}
