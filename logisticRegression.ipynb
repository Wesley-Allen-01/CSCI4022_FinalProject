{
 "cells": [
  {
   "cell_type": "code",
   "execution_count": 3,
   "metadata": {},
   "outputs": [],
   "source": [
    "import pandas as pd\n",
    "import numpy as np\n",
    "from sklearn.feature_extraction.text import TfidfVectorizer\n",
    "from sklearn.linear_model import LogisticRegression\n",
    "from sklearn.decomposition import PCA\n",
    "from sklearn.metrics import accuracy_score, f1_score, precision_score, recall_score, confusion_matrix\n"
   ]
  },
  {
   "cell_type": "code",
   "execution_count": 4,
   "metadata": {},
   "outputs": [
    {
     "data": {
      "text/html": [
       "<div>\n",
       "<style scoped>\n",
       "    .dataframe tbody tr th:only-of-type {\n",
       "        vertical-align: middle;\n",
       "    }\n",
       "\n",
       "    .dataframe tbody tr th {\n",
       "        vertical-align: top;\n",
       "    }\n",
       "\n",
       "    .dataframe thead th {\n",
       "        text-align: right;\n",
       "    }\n",
       "</style>\n",
       "<table border=\"1\" class=\"dataframe\">\n",
       "  <thead>\n",
       "    <tr style=\"text-align: right;\">\n",
       "      <th></th>\n",
       "      <th>topic</th>\n",
       "      <th>source</th>\n",
       "      <th>bias</th>\n",
       "      <th>url</th>\n",
       "      <th>title</th>\n",
       "      <th>date</th>\n",
       "      <th>authors</th>\n",
       "      <th>content</th>\n",
       "      <th>content_original</th>\n",
       "      <th>source_url</th>\n",
       "      <th>bias_text</th>\n",
       "      <th>ID</th>\n",
       "    </tr>\n",
       "  </thead>\n",
       "  <tbody>\n",
       "    <tr>\n",
       "      <th>0</th>\n",
       "      <td>elections</td>\n",
       "      <td>The Daily Wire</td>\n",
       "      <td>2</td>\n",
       "      <td>https://www.dailywire.com/news/52178/tulsi-gab...</td>\n",
       "      <td>Tulsi Gabbard Qualifies For Upcoming President...</td>\n",
       "      <td>NaN</td>\n",
       "      <td>NaN</td>\n",
       "      <td>Rep. Tulsi Gabbard ( D-HI ) has officially met...</td>\n",
       "      <td>Rep. Tulsi Gabbard (D-HI) has officially met t...</td>\n",
       "      <td>www.dailywire.com</td>\n",
       "      <td>right</td>\n",
       "      <td>diXbkrezTxsgcoJp</td>\n",
       "    </tr>\n",
       "    <tr>\n",
       "      <th>1</th>\n",
       "      <td>elections</td>\n",
       "      <td>Washington Times</td>\n",
       "      <td>2</td>\n",
       "      <td>https://www.washingtontimes.com/news/2019/jun/...</td>\n",
       "      <td>Candidate Hillary Clinton endorsed idea of pol...</td>\n",
       "      <td>2019-06-13</td>\n",
       "      <td>Rowan Scarborough</td>\n",
       "      <td>Hillary Clinton has endorsed the idea of obtai...</td>\n",
       "      <td>Hillary Clinton has endorsed the idea of obtai...</td>\n",
       "      <td>www.washingtontimes.com</td>\n",
       "      <td>right</td>\n",
       "      <td>0ERzAbVMeKjFGiox</td>\n",
       "    </tr>\n",
       "    <tr>\n",
       "      <th>2</th>\n",
       "      <td>elections</td>\n",
       "      <td>The Hill</td>\n",
       "      <td>1</td>\n",
       "      <td>https://thehill.com/homenews/campaign/431181-t...</td>\n",
       "      <td>Trump unleashing digital juggernaut ahead of 2020</td>\n",
       "      <td>2019-02-25</td>\n",
       "      <td>NaN</td>\n",
       "      <td>President Trump Donald John TrumpSessions says...</td>\n",
       "      <td>President Trump Donald John TrumpSessions says...</td>\n",
       "      <td>www.thehill.com</td>\n",
       "      <td>center</td>\n",
       "      <td>641HsrEBG9vsQjQT</td>\n",
       "    </tr>\n",
       "    <tr>\n",
       "      <th>3</th>\n",
       "      <td>elections</td>\n",
       "      <td>Reuters</td>\n",
       "      <td>1</td>\n",
       "      <td>https://www.reuters.com/article/us-usa-electio...</td>\n",
       "      <td>Russia looms large as U.S. election officials ...</td>\n",
       "      <td>2018-02-19</td>\n",
       "      <td>Dustin Volz</td>\n",
       "      <td>WASHINGTON ( ███ ) - Ten months before the Uni...</td>\n",
       "      <td>WASHINGTON (Reuters) - Ten months before the U...</td>\n",
       "      <td>www.reuters.com</td>\n",
       "      <td>center</td>\n",
       "      <td>yJimQY11fGmT0Dyw</td>\n",
       "    </tr>\n",
       "    <tr>\n",
       "      <th>4</th>\n",
       "      <td>elections</td>\n",
       "      <td>Salon</td>\n",
       "      <td>0</td>\n",
       "      <td>http://www.salon.com/2016/03/11/the_republican...</td>\n",
       "      <td>After the latest debacle, we agree with Donald...</td>\n",
       "      <td>2016-03-11</td>\n",
       "      <td>Elias Isquith</td>\n",
       "      <td>If you ’ re not a masochist — or even if you a...</td>\n",
       "      <td>If you’re not a masochist — or even if you are...</td>\n",
       "      <td>www.salon.com</td>\n",
       "      <td>left</td>\n",
       "      <td>bQm3oIyjS1aGUXP4</td>\n",
       "    </tr>\n",
       "  </tbody>\n",
       "</table>\n",
       "</div>"
      ],
      "text/plain": [
       "       topic            source  bias  \\\n",
       "0  elections    The Daily Wire     2   \n",
       "1  elections  Washington Times     2   \n",
       "2  elections          The Hill     1   \n",
       "3  elections           Reuters     1   \n",
       "4  elections             Salon     0   \n",
       "\n",
       "                                                 url  \\\n",
       "0  https://www.dailywire.com/news/52178/tulsi-gab...   \n",
       "1  https://www.washingtontimes.com/news/2019/jun/...   \n",
       "2  https://thehill.com/homenews/campaign/431181-t...   \n",
       "3  https://www.reuters.com/article/us-usa-electio...   \n",
       "4  http://www.salon.com/2016/03/11/the_republican...   \n",
       "\n",
       "                                               title        date  \\\n",
       "0  Tulsi Gabbard Qualifies For Upcoming President...         NaN   \n",
       "1  Candidate Hillary Clinton endorsed idea of pol...  2019-06-13   \n",
       "2  Trump unleashing digital juggernaut ahead of 2020  2019-02-25   \n",
       "3  Russia looms large as U.S. election officials ...  2018-02-19   \n",
       "4  After the latest debacle, we agree with Donald...  2016-03-11   \n",
       "\n",
       "             authors                                            content  \\\n",
       "0                NaN  Rep. Tulsi Gabbard ( D-HI ) has officially met...   \n",
       "1  Rowan Scarborough  Hillary Clinton has endorsed the idea of obtai...   \n",
       "2                NaN  President Trump Donald John TrumpSessions says...   \n",
       "3        Dustin Volz  WASHINGTON ( ███ ) - Ten months before the Uni...   \n",
       "4      Elias Isquith  If you ’ re not a masochist — or even if you a...   \n",
       "\n",
       "                                    content_original               source_url  \\\n",
       "0  Rep. Tulsi Gabbard (D-HI) has officially met t...        www.dailywire.com   \n",
       "1  Hillary Clinton has endorsed the idea of obtai...  www.washingtontimes.com   \n",
       "2  President Trump Donald John TrumpSessions says...          www.thehill.com   \n",
       "3  WASHINGTON (Reuters) - Ten months before the U...          www.reuters.com   \n",
       "4  If you’re not a masochist — or even if you are...            www.salon.com   \n",
       "\n",
       "  bias_text                ID  \n",
       "0     right  diXbkrezTxsgcoJp  \n",
       "1     right  0ERzAbVMeKjFGiox  \n",
       "2    center  641HsrEBG9vsQjQT  \n",
       "3    center  yJimQY11fGmT0Dyw  \n",
       "4      left  bQm3oIyjS1aGUXP4  "
      ]
     },
     "execution_count": 4,
     "metadata": {},
     "output_type": "execute_result"
    }
   ],
   "source": [
    "train_data = pd.read_csv('data/elections/train/elections_train.csv')\n",
    "train_data.head()"
   ]
  },
  {
   "cell_type": "code",
   "execution_count": 5,
   "metadata": {},
   "outputs": [],
   "source": [
    "train_data['content'] = train_data['content'].apply(lambda x: x.lower())"
   ]
  },
  {
   "cell_type": "code",
   "execution_count": 6,
   "metadata": {},
   "outputs": [],
   "source": [
    "train_data = train_data[(train_data['bias'] == 0) | (train_data['bias'] == 2)]"
   ]
  },
  {
   "cell_type": "code",
   "execution_count": 7,
   "metadata": {},
   "outputs": [],
   "source": [
    "x_train = train_data['content'].values\n",
    "y_train = train_data['bias'].values"
   ]
  },
  {
   "cell_type": "code",
   "execution_count": 8,
   "metadata": {},
   "outputs": [],
   "source": [
    "# TfidfVectorizer = TfidfVectorizer(stop_words='english')\n",
    "# x_train = TfidfVectorizer.fit_transform(x_train)"
   ]
  },
  {
   "cell_type": "code",
   "execution_count": 10,
   "metadata": {},
   "outputs": [
    {
     "ename": "ValueError",
     "evalue": "could not convert string to float: \"rep. tulsi gabbard ( d-hi ) has officially met the democratic national committee ’ s ( dnc ) threshold to qualify for the upcoming democratic presidential primary debate in october .\\nin order to nab a podium on the next debate state in westerville , ohio , presidential candidates must raise campaign donations from no fewer than 130,000 individual donors and receive at least 2 % of the vote in four or more polls that have been pre-approved by the dnc .\\na certified poll conducted by monmouth university shows that the hawaii congresswoman received 2 % support in the early voting state of new hampshire . the poll , released on tuesday , marks the final benchmark that she needed to overcome on order to receive an invitation onto the stage .\\ngabbard is now the twelfth presidential hopeful to meet the qualifying threshold and subsequently accept an invitation onto the debate stage : former vice president joe biden , sen. cory booker ( d-nj ) , south bend , indiana mayor pete buttigieg , former housing and urban development secretary julian castro , sen. kamala harris ( d-ca ) , sen. amy klobuchar ( d-mn ) , former rep. beto o ’ rourke ( d-tx ) , sen. bernie sanders ( i-vt ) , financier tom steyer , sen. elizabeth warren ( d-ma ) , and entrepreneur andrew yang will also be participating .\\nnotably , both steyer and gabbard failed to meet the criteria to appear in september ’ s debate in houston , texas .\\ngabbard , however , has been an outspoken critic of the dnc ’ s lack of transparency and arbitrary determination of which polls are deemed eligible for qualification purposes . her campaign urged the dnc to reconsider their criteria and further slammed the organization for hindering conversations “ between future leaders of this country . ”\\n“ the dnc set a threshold that candidates must meet at least 2 % in four dnc-certified polls in order to qualify for the third and fourth democratic primary debates , ” the campaign wrote in a statement in august . “ however , the dnc has not released their criteria for selecting the 16 polling organizations they deem ‘ certifiable . ' ”\\n“ rep . gabbard has exceeded the 2 % support in 26 national and early state polls , but only two of them are on the dnc ’ s ‘ certified ’ list , ” the statement continued at the time . “ many of the uncertified polls , including those conducted by highly reputable organizations such as the economist and the boston globe are ranked by real clear politics and fivethirtyeight as more accurate than some ‘ certified ’ polls . ”\\ngabbard is likely to be the final presidential contender to receive an invitation onto the fourth debate stage . qualifications for participating in the event end on october 1 and author marianne williamson is the only remaining candidate to have passed the donor threshold . williamson , however , is still three dnc-approved polls short of hitting the benchmark .\\nthe dnc announced on monday that it will be raising the criteria for the fifth debate in an attempt to further narrow down the crowded democratic primary field .\\nin order to receive an invitation onto november ’ s debate stage , presidential candidates must raise campaign donations from no fewer than 165,000 individual donors . in addition , they must also receive at least 3 % of the vote in four general dnc-approved polls and 5 % in two early-state polls — such as those in iowa , new hampshire , nevada , or south carolina .\"",
     "output_type": "error",
     "traceback": [
      "\u001b[0;31m---------------------------------------------------------------------------\u001b[0m",
      "\u001b[0;31mValueError\u001b[0m                                Traceback (most recent call last)",
      "Cell \u001b[0;32mIn[10], line 2\u001b[0m\n\u001b[1;32m      1\u001b[0m lr \u001b[38;5;241m=\u001b[39m LogisticRegression()\n\u001b[0;32m----> 2\u001b[0m lr\u001b[38;5;241m.\u001b[39mfit(x_train, y_train)\n",
      "File \u001b[0;32m~/anaconda3/envs/CSCI_4022/lib/python3.11/site-packages/sklearn/base.py:1151\u001b[0m, in \u001b[0;36m_fit_context.<locals>.decorator.<locals>.wrapper\u001b[0;34m(estimator, *args, **kwargs)\u001b[0m\n\u001b[1;32m   1144\u001b[0m     estimator\u001b[38;5;241m.\u001b[39m_validate_params()\n\u001b[1;32m   1146\u001b[0m \u001b[38;5;28;01mwith\u001b[39;00m config_context(\n\u001b[1;32m   1147\u001b[0m     skip_parameter_validation\u001b[38;5;241m=\u001b[39m(\n\u001b[1;32m   1148\u001b[0m         prefer_skip_nested_validation \u001b[38;5;129;01mor\u001b[39;00m global_skip_validation\n\u001b[1;32m   1149\u001b[0m     )\n\u001b[1;32m   1150\u001b[0m ):\n\u001b[0;32m-> 1151\u001b[0m     \u001b[38;5;28;01mreturn\u001b[39;00m fit_method(estimator, \u001b[38;5;241m*\u001b[39margs, \u001b[38;5;241m*\u001b[39m\u001b[38;5;241m*\u001b[39mkwargs)\n",
      "File \u001b[0;32m~/anaconda3/envs/CSCI_4022/lib/python3.11/site-packages/sklearn/linear_model/_logistic.py:1207\u001b[0m, in \u001b[0;36mLogisticRegression.fit\u001b[0;34m(self, X, y, sample_weight)\u001b[0m\n\u001b[1;32m   1204\u001b[0m \u001b[38;5;28;01melse\u001b[39;00m:\n\u001b[1;32m   1205\u001b[0m     _dtype \u001b[38;5;241m=\u001b[39m [np\u001b[38;5;241m.\u001b[39mfloat64, np\u001b[38;5;241m.\u001b[39mfloat32]\n\u001b[0;32m-> 1207\u001b[0m X, y \u001b[38;5;241m=\u001b[39m \u001b[38;5;28mself\u001b[39m\u001b[38;5;241m.\u001b[39m_validate_data(\n\u001b[1;32m   1208\u001b[0m     X,\n\u001b[1;32m   1209\u001b[0m     y,\n\u001b[1;32m   1210\u001b[0m     accept_sparse\u001b[38;5;241m=\u001b[39m\u001b[38;5;124m\"\u001b[39m\u001b[38;5;124mcsr\u001b[39m\u001b[38;5;124m\"\u001b[39m,\n\u001b[1;32m   1211\u001b[0m     dtype\u001b[38;5;241m=\u001b[39m_dtype,\n\u001b[1;32m   1212\u001b[0m     order\u001b[38;5;241m=\u001b[39m\u001b[38;5;124m\"\u001b[39m\u001b[38;5;124mC\u001b[39m\u001b[38;5;124m\"\u001b[39m,\n\u001b[1;32m   1213\u001b[0m     accept_large_sparse\u001b[38;5;241m=\u001b[39msolver \u001b[38;5;129;01mnot\u001b[39;00m \u001b[38;5;129;01min\u001b[39;00m [\u001b[38;5;124m\"\u001b[39m\u001b[38;5;124mliblinear\u001b[39m\u001b[38;5;124m\"\u001b[39m, \u001b[38;5;124m\"\u001b[39m\u001b[38;5;124msag\u001b[39m\u001b[38;5;124m\"\u001b[39m, \u001b[38;5;124m\"\u001b[39m\u001b[38;5;124msaga\u001b[39m\u001b[38;5;124m\"\u001b[39m],\n\u001b[1;32m   1214\u001b[0m )\n\u001b[1;32m   1215\u001b[0m check_classification_targets(y)\n\u001b[1;32m   1216\u001b[0m \u001b[38;5;28mself\u001b[39m\u001b[38;5;241m.\u001b[39mclasses_ \u001b[38;5;241m=\u001b[39m np\u001b[38;5;241m.\u001b[39munique(y)\n",
      "File \u001b[0;32m~/anaconda3/envs/CSCI_4022/lib/python3.11/site-packages/sklearn/base.py:621\u001b[0m, in \u001b[0;36mBaseEstimator._validate_data\u001b[0;34m(self, X, y, reset, validate_separately, cast_to_ndarray, **check_params)\u001b[0m\n\u001b[1;32m    619\u001b[0m         y \u001b[38;5;241m=\u001b[39m check_array(y, input_name\u001b[38;5;241m=\u001b[39m\u001b[38;5;124m\"\u001b[39m\u001b[38;5;124my\u001b[39m\u001b[38;5;124m\"\u001b[39m, \u001b[38;5;241m*\u001b[39m\u001b[38;5;241m*\u001b[39mcheck_y_params)\n\u001b[1;32m    620\u001b[0m     \u001b[38;5;28;01melse\u001b[39;00m:\n\u001b[0;32m--> 621\u001b[0m         X, y \u001b[38;5;241m=\u001b[39m check_X_y(X, y, \u001b[38;5;241m*\u001b[39m\u001b[38;5;241m*\u001b[39mcheck_params)\n\u001b[1;32m    622\u001b[0m     out \u001b[38;5;241m=\u001b[39m X, y\n\u001b[1;32m    624\u001b[0m \u001b[38;5;28;01mif\u001b[39;00m \u001b[38;5;129;01mnot\u001b[39;00m no_val_X \u001b[38;5;129;01mand\u001b[39;00m check_params\u001b[38;5;241m.\u001b[39mget(\u001b[38;5;124m\"\u001b[39m\u001b[38;5;124mensure_2d\u001b[39m\u001b[38;5;124m\"\u001b[39m, \u001b[38;5;28;01mTrue\u001b[39;00m):\n",
      "File \u001b[0;32m~/anaconda3/envs/CSCI_4022/lib/python3.11/site-packages/sklearn/utils/validation.py:1147\u001b[0m, in \u001b[0;36mcheck_X_y\u001b[0;34m(X, y, accept_sparse, accept_large_sparse, dtype, order, copy, force_all_finite, ensure_2d, allow_nd, multi_output, ensure_min_samples, ensure_min_features, y_numeric, estimator)\u001b[0m\n\u001b[1;32m   1142\u001b[0m         estimator_name \u001b[38;5;241m=\u001b[39m _check_estimator_name(estimator)\n\u001b[1;32m   1143\u001b[0m     \u001b[38;5;28;01mraise\u001b[39;00m \u001b[38;5;167;01mValueError\u001b[39;00m(\n\u001b[1;32m   1144\u001b[0m         \u001b[38;5;124mf\u001b[39m\u001b[38;5;124m\"\u001b[39m\u001b[38;5;132;01m{\u001b[39;00mestimator_name\u001b[38;5;132;01m}\u001b[39;00m\u001b[38;5;124m requires y to be passed, but the target y is None\u001b[39m\u001b[38;5;124m\"\u001b[39m\n\u001b[1;32m   1145\u001b[0m     )\n\u001b[0;32m-> 1147\u001b[0m X \u001b[38;5;241m=\u001b[39m check_array(\n\u001b[1;32m   1148\u001b[0m     X,\n\u001b[1;32m   1149\u001b[0m     accept_sparse\u001b[38;5;241m=\u001b[39maccept_sparse,\n\u001b[1;32m   1150\u001b[0m     accept_large_sparse\u001b[38;5;241m=\u001b[39maccept_large_sparse,\n\u001b[1;32m   1151\u001b[0m     dtype\u001b[38;5;241m=\u001b[39mdtype,\n\u001b[1;32m   1152\u001b[0m     order\u001b[38;5;241m=\u001b[39morder,\n\u001b[1;32m   1153\u001b[0m     copy\u001b[38;5;241m=\u001b[39mcopy,\n\u001b[1;32m   1154\u001b[0m     force_all_finite\u001b[38;5;241m=\u001b[39mforce_all_finite,\n\u001b[1;32m   1155\u001b[0m     ensure_2d\u001b[38;5;241m=\u001b[39mensure_2d,\n\u001b[1;32m   1156\u001b[0m     allow_nd\u001b[38;5;241m=\u001b[39mallow_nd,\n\u001b[1;32m   1157\u001b[0m     ensure_min_samples\u001b[38;5;241m=\u001b[39mensure_min_samples,\n\u001b[1;32m   1158\u001b[0m     ensure_min_features\u001b[38;5;241m=\u001b[39mensure_min_features,\n\u001b[1;32m   1159\u001b[0m     estimator\u001b[38;5;241m=\u001b[39mestimator,\n\u001b[1;32m   1160\u001b[0m     input_name\u001b[38;5;241m=\u001b[39m\u001b[38;5;124m\"\u001b[39m\u001b[38;5;124mX\u001b[39m\u001b[38;5;124m\"\u001b[39m,\n\u001b[1;32m   1161\u001b[0m )\n\u001b[1;32m   1163\u001b[0m y \u001b[38;5;241m=\u001b[39m _check_y(y, multi_output\u001b[38;5;241m=\u001b[39mmulti_output, y_numeric\u001b[38;5;241m=\u001b[39my_numeric, estimator\u001b[38;5;241m=\u001b[39mestimator)\n\u001b[1;32m   1165\u001b[0m check_consistent_length(X, y)\n",
      "File \u001b[0;32m~/anaconda3/envs/CSCI_4022/lib/python3.11/site-packages/sklearn/utils/validation.py:917\u001b[0m, in \u001b[0;36mcheck_array\u001b[0;34m(array, accept_sparse, accept_large_sparse, dtype, order, copy, force_all_finite, ensure_2d, allow_nd, ensure_min_samples, ensure_min_features, estimator, input_name)\u001b[0m\n\u001b[1;32m    915\u001b[0m         array \u001b[38;5;241m=\u001b[39m xp\u001b[38;5;241m.\u001b[39mastype(array, dtype, copy\u001b[38;5;241m=\u001b[39m\u001b[38;5;28;01mFalse\u001b[39;00m)\n\u001b[1;32m    916\u001b[0m     \u001b[38;5;28;01melse\u001b[39;00m:\n\u001b[0;32m--> 917\u001b[0m         array \u001b[38;5;241m=\u001b[39m _asarray_with_order(array, order\u001b[38;5;241m=\u001b[39morder, dtype\u001b[38;5;241m=\u001b[39mdtype, xp\u001b[38;5;241m=\u001b[39mxp)\n\u001b[1;32m    918\u001b[0m \u001b[38;5;28;01mexcept\u001b[39;00m ComplexWarning \u001b[38;5;28;01mas\u001b[39;00m complex_warning:\n\u001b[1;32m    919\u001b[0m     \u001b[38;5;28;01mraise\u001b[39;00m \u001b[38;5;167;01mValueError\u001b[39;00m(\n\u001b[1;32m    920\u001b[0m         \u001b[38;5;124m\"\u001b[39m\u001b[38;5;124mComplex data not supported\u001b[39m\u001b[38;5;130;01m\\n\u001b[39;00m\u001b[38;5;132;01m{}\u001b[39;00m\u001b[38;5;130;01m\\n\u001b[39;00m\u001b[38;5;124m\"\u001b[39m\u001b[38;5;241m.\u001b[39mformat(array)\n\u001b[1;32m    921\u001b[0m     ) \u001b[38;5;28;01mfrom\u001b[39;00m \u001b[38;5;21;01mcomplex_warning\u001b[39;00m\n",
      "File \u001b[0;32m~/anaconda3/envs/CSCI_4022/lib/python3.11/site-packages/sklearn/utils/_array_api.py:380\u001b[0m, in \u001b[0;36m_asarray_with_order\u001b[0;34m(array, dtype, order, copy, xp)\u001b[0m\n\u001b[1;32m    378\u001b[0m     array \u001b[38;5;241m=\u001b[39m numpy\u001b[38;5;241m.\u001b[39marray(array, order\u001b[38;5;241m=\u001b[39morder, dtype\u001b[38;5;241m=\u001b[39mdtype)\n\u001b[1;32m    379\u001b[0m \u001b[38;5;28;01melse\u001b[39;00m:\n\u001b[0;32m--> 380\u001b[0m     array \u001b[38;5;241m=\u001b[39m numpy\u001b[38;5;241m.\u001b[39masarray(array, order\u001b[38;5;241m=\u001b[39morder, dtype\u001b[38;5;241m=\u001b[39mdtype)\n\u001b[1;32m    382\u001b[0m \u001b[38;5;66;03m# At this point array is a NumPy ndarray. We convert it to an array\u001b[39;00m\n\u001b[1;32m    383\u001b[0m \u001b[38;5;66;03m# container that is consistent with the input's namespace.\u001b[39;00m\n\u001b[1;32m    384\u001b[0m \u001b[38;5;28;01mreturn\u001b[39;00m xp\u001b[38;5;241m.\u001b[39masarray(array)\n",
      "\u001b[0;31mValueError\u001b[0m: could not convert string to float: \"rep. tulsi gabbard ( d-hi ) has officially met the democratic national committee ’ s ( dnc ) threshold to qualify for the upcoming democratic presidential primary debate in october .\\nin order to nab a podium on the next debate state in westerville , ohio , presidential candidates must raise campaign donations from no fewer than 130,000 individual donors and receive at least 2 % of the vote in four or more polls that have been pre-approved by the dnc .\\na certified poll conducted by monmouth university shows that the hawaii congresswoman received 2 % support in the early voting state of new hampshire . the poll , released on tuesday , marks the final benchmark that she needed to overcome on order to receive an invitation onto the stage .\\ngabbard is now the twelfth presidential hopeful to meet the qualifying threshold and subsequently accept an invitation onto the debate stage : former vice president joe biden , sen. cory booker ( d-nj ) , south bend , indiana mayor pete buttigieg , former housing and urban development secretary julian castro , sen. kamala harris ( d-ca ) , sen. amy klobuchar ( d-mn ) , former rep. beto o ’ rourke ( d-tx ) , sen. bernie sanders ( i-vt ) , financier tom steyer , sen. elizabeth warren ( d-ma ) , and entrepreneur andrew yang will also be participating .\\nnotably , both steyer and gabbard failed to meet the criteria to appear in september ’ s debate in houston , texas .\\ngabbard , however , has been an outspoken critic of the dnc ’ s lack of transparency and arbitrary determination of which polls are deemed eligible for qualification purposes . her campaign urged the dnc to reconsider their criteria and further slammed the organization for hindering conversations “ between future leaders of this country . ”\\n“ the dnc set a threshold that candidates must meet at least 2 % in four dnc-certified polls in order to qualify for the third and fourth democratic primary debates , ” the campaign wrote in a statement in august . “ however , the dnc has not released their criteria for selecting the 16 polling organizations they deem ‘ certifiable . ' ”\\n“ rep . gabbard has exceeded the 2 % support in 26 national and early state polls , but only two of them are on the dnc ’ s ‘ certified ’ list , ” the statement continued at the time . “ many of the uncertified polls , including those conducted by highly reputable organizations such as the economist and the boston globe are ranked by real clear politics and fivethirtyeight as more accurate than some ‘ certified ’ polls . ”\\ngabbard is likely to be the final presidential contender to receive an invitation onto the fourth debate stage . qualifications for participating in the event end on october 1 and author marianne williamson is the only remaining candidate to have passed the donor threshold . williamson , however , is still three dnc-approved polls short of hitting the benchmark .\\nthe dnc announced on monday that it will be raising the criteria for the fifth debate in an attempt to further narrow down the crowded democratic primary field .\\nin order to receive an invitation onto november ’ s debate stage , presidential candidates must raise campaign donations from no fewer than 165,000 individual donors . in addition , they must also receive at least 3 % of the vote in four general dnc-approved polls and 5 % in two early-state polls — such as those in iowa , new hampshire , nevada , or south carolina .\""
     ]
    }
   ],
   "source": [
    "lr = LogisticRegression()\n",
    "lr.fit(x_train, y_train)"
   ]
  },
  {
   "cell_type": "code",
   "execution_count": null,
   "metadata": {},
   "outputs": [],
   "source": [
    "test_data = pd.read_csv('data/elections/test/elections_test.csv')\n",
    "test_data = test_data[(test_data['bias'] == 0) | (test_data['bias'] == 2)]\n",
    "test_data['content'] = test_data['content'].apply(lambda x: x.lower())\n",
    "x_test = test_data['content'].values\n",
    "y_test = test_data['bias'].values"
   ]
  },
  {
   "cell_type": "code",
   "execution_count": null,
   "metadata": {},
   "outputs": [],
   "source": [
    "x_test = TfidfVectorizer.transform(x_test)\n",
    "x_test = x_test.toarray()\n",
    "x_test = pca.transform(x_test)"
   ]
  },
  {
   "cell_type": "code",
   "execution_count": null,
   "metadata": {},
   "outputs": [],
   "source": [
    "y_pred = lr.predict(x_test)"
   ]
  },
  {
   "cell_type": "code",
   "execution_count": null,
   "metadata": {},
   "outputs": [
    {
     "data": {
      "text/plain": [
       "0.6558194077982996"
      ]
     },
     "execution_count": 12,
     "metadata": {},
     "output_type": "execute_result"
    }
   ],
   "source": [
    "accuracy_score(y_test, y_pred)"
   ]
  },
  {
   "cell_type": "markdown",
   "metadata": {},
   "source": [
    "## Running experiment on top 5 categories"
   ]
  },
  {
   "cell_type": "code",
   "execution_count": 4,
   "metadata": {},
   "outputs": [],
   "source": [
    "urls = ['data/elections', 'data/politics', 'data/white_house', 'data/immigration', 'data/healthcare']\n",
    "import pandas as pd\n",
    "import numpy as np\n",
    "from sklearn.feature_extraction.text import TfidfVectorizer\n",
    "from sklearn.linear_model import LogisticRegression\n",
    "from sklearn.decomposition import PCA\n",
    "from sklearn.metrics import accuracy_score\n"
   ]
  },
  {
   "cell_type": "code",
   "execution_count": 5,
   "metadata": {},
   "outputs": [],
   "source": [
    "def preprocess_data(url):\n",
    "    train_data = pd.read_csv(f'{url}/train/{url.split(\"/\")[1]}_train.csv')\n",
    "    train_data = train_data[(train_data['bias'] == 0) | (train_data['bias'] == 2)]\n",
    "    train_data['content'] = train_data['content'].apply(lambda x: x.lower())\n",
    "    \n",
    "    test_data = pd.read_csv(f'{url}/test/{url.split(\"/\")[1]}_test.csv')\n",
    "    test_data = test_data[(test_data['bias'] == 0) | (test_data['bias'] == 2)]\n",
    "    test_data['content'] = test_data['content'].apply(lambda x: x.lower())\n",
    "    \n",
    "    tfid = TfidfVectorizer(stop_words='english')\n",
    "    \n",
    "    x_train = train_data['content'].values\n",
    "    x_train = tfid.fit_transform(x_train)\n",
    "    y_train = train_data['bias'].values\n",
    "    \n",
    "    x_test = test_data['content'].values\n",
    "    x_test = tfid.transform(x_test)\n",
    "    y_test = test_data['bias'].values\n",
    "    \n",
    "    return x_train, y_train, x_test, y_test\n",
    "    "
   ]
  },
  {
   "cell_type": "code",
   "execution_count": 6,
   "metadata": {},
   "outputs": [],
   "source": [
    "def train_model(x_train, y_train):\n",
    "    lr = LogisticRegression()\n",
    "    lr.fit(x_train, y_train)\n",
    "    return lr"
   ]
  },
  {
   "cell_type": "code",
   "execution_count": 7,
   "metadata": {},
   "outputs": [],
   "source": [
    "def predict_on_test_data(model, x_test, y_test):\n",
    "    y_pred = model.predict(x_test)\n",
    "    acc = accuracy_score(y_test, y_pred)\n",
    "    precision = precision_score(y_test, y_pred, pos_label=2)\n",
    "    recall = recall_score(y_test, y_pred, pos_label=2)\n",
    "    f1 = f1_score(y_test, y_pred, pos_label=2)\n",
    "    cm = confusion_matrix(y_test, y_pred)\n",
    "    return acc, precision, recall, f1, cm"
   ]
  },
  {
   "cell_type": "code",
   "execution_count": 8,
   "metadata": {},
   "outputs": [],
   "source": [
    "def runExperiment(url):\n",
    "    x_train, y_train, x_test, y_test = preprocess_data(url)\n",
    "    model = train_model(x_train, y_train)\n",
    "    return predict_on_test_data(model, x_test, y_test)"
   ]
  },
  {
   "cell_type": "code",
   "execution_count": 9,
   "metadata": {},
   "outputs": [
    {
     "name": "stdout",
     "output_type": "stream",
     "text": [
      "elections Accuracy: 0.6579\n",
      "elections Precision: 0.6696\n",
      "elections Recall: 0.4133\n",
      "elections F1: 0.5111\n",
      "\n",
      "\n",
      "politics Accuracy: 0.6619\n",
      "politics Precision: 0.6313\n",
      "politics Recall: 0.8642\n",
      "politics F1: 0.7296\n",
      "\n",
      "\n",
      "white_house Accuracy: 0.6451\n",
      "white_house Precision: 0.6430\n",
      "white_house Recall: 0.7311\n",
      "white_house F1: 0.6842\n",
      "\n",
      "\n",
      "immigration Accuracy: 0.6623\n",
      "immigration Precision: 0.6475\n",
      "immigration Recall: 0.9008\n",
      "immigration F1: 0.7534\n",
      "\n",
      "\n",
      "healthcare Accuracy: 0.6235\n",
      "healthcare Precision: 0.5912\n",
      "healthcare Recall: 0.9501\n",
      "healthcare F1: 0.7289\n",
      "\n",
      "\n",
      "Average Accuracy: 0.6501\n",
      "Average Precision: 0.6365\n",
      "Average Recall: 0.7719\n",
      "Average F1: 0.6814\n"
     ]
    }
   ],
   "source": [
    "avg_accuracy = 0\n",
    "avg_precision = 0\n",
    "avg_recall = 0\n",
    "avg_f1 = 0\n",
    "cms = []\n",
    "\n",
    "for url in urls:\n",
    "    topic = url.split(\"/\")[1]\n",
    "    \n",
    "    accuracy, precision, recall, f1, cm = runExperiment(url)\n",
    "    \n",
    "    avg_accuracy += accuracy\n",
    "    avg_precision += precision\n",
    "    avg_recall += recall\n",
    "    avg_f1 += f1\n",
    "    cms.append(cm)\n",
    "    \n",
    "    print(f'{topic} Accuracy: {accuracy:.4f}')\n",
    "    print(f'{topic} Precision: {precision:.4f}')\n",
    "    print(f'{topic} Recall: {recall:.4f}')\n",
    "    print(f'{topic} F1: {f1:.4f}\\n\\n')\n",
    "    \n",
    "avg_accuracy /= len(urls)\n",
    "avg_recall /= len(urls)\n",
    "avg_precision /= len(urls)\n",
    "avg_f1 /= len(urls)\n",
    "\n",
    "print(f'Average Accuracy: {avg_accuracy:.4f}')\n",
    "print(f'Average Precision: {avg_precision:.4f}')\n",
    "print(f'Average Recall: {avg_recall:.4f}')\n",
    "print(f'Average F1: {avg_f1:.4f}')"
   ]
  },
  {
   "cell_type": "code",
   "execution_count": 10,
   "metadata": {},
   "outputs": [
    {
     "data": {
      "text/html": [
       "<div>\n",
       "<style scoped>\n",
       "    .dataframe tbody tr th:only-of-type {\n",
       "        vertical-align: middle;\n",
       "    }\n",
       "\n",
       "    .dataframe tbody tr th {\n",
       "        vertical-align: top;\n",
       "    }\n",
       "\n",
       "    .dataframe thead th {\n",
       "        text-align: right;\n",
       "    }\n",
       "</style>\n",
       "<table border=\"1\" class=\"dataframe\">\n",
       "  <thead>\n",
       "    <tr style=\"text-align: right;\">\n",
       "      <th></th>\n",
       "      <th>Predicted Left</th>\n",
       "      <th>Predicted Right</th>\n",
       "    </tr>\n",
       "  </thead>\n",
       "  <tbody>\n",
       "    <tr>\n",
       "      <th>Actual Left</th>\n",
       "      <td>2489</td>\n",
       "      <td>1536</td>\n",
       "    </tr>\n",
       "    <tr>\n",
       "      <th>Actual Right</th>\n",
       "      <td>1211</td>\n",
       "      <td>2693</td>\n",
       "    </tr>\n",
       "  </tbody>\n",
       "</table>\n",
       "</div>"
      ],
      "text/plain": [
       "              Predicted Left  Predicted Right\n",
       "Actual Left             2489             1536\n",
       "Actual Right            1211             2693"
      ]
     },
     "execution_count": 10,
     "metadata": {},
     "output_type": "execute_result"
    }
   ],
   "source": [
    "cm = sum(cms)\n",
    "\n",
    "data_cm = pd.DataFrame(cm, columns=['Predicted Left', 'Predicted Right'], index=['Actual Left', 'Actual Right'])\n",
    "data_cm"
   ]
  },
  {
   "cell_type": "code",
   "execution_count": 12,
   "metadata": {},
   "outputs": [
    {
     "data": {
      "text/html": [
       "<div>\n",
       "<style scoped>\n",
       "    .dataframe tbody tr th:only-of-type {\n",
       "        vertical-align: middle;\n",
       "    }\n",
       "\n",
       "    .dataframe tbody tr th {\n",
       "        vertical-align: top;\n",
       "    }\n",
       "\n",
       "    .dataframe thead th {\n",
       "        text-align: right;\n",
       "    }\n",
       "</style>\n",
       "<table border=\"1\" class=\"dataframe\">\n",
       "  <thead>\n",
       "    <tr style=\"text-align: right;\">\n",
       "      <th></th>\n",
       "      <th>Accuracy</th>\n",
       "      <th>Precision</th>\n",
       "      <th>Recall</th>\n",
       "      <th>F1</th>\n",
       "    </tr>\n",
       "  </thead>\n",
       "  <tbody>\n",
       "    <tr>\n",
       "      <th>Logistic Regression</th>\n",
       "      <td>0.650135</td>\n",
       "      <td>0.636507</td>\n",
       "      <td>0.771884</td>\n",
       "      <td>0.681436</td>\n",
       "    </tr>\n",
       "  </tbody>\n",
       "</table>\n",
       "</div>"
      ],
      "text/plain": [
       "                     Accuracy  Precision    Recall        F1\n",
       "Logistic Regression  0.650135   0.636507  0.771884  0.681436"
      ]
     },
     "execution_count": 12,
     "metadata": {},
     "output_type": "execute_result"
    }
   ],
   "source": [
    "cols = ['Accuracy', 'Precision', 'Recall', 'F1']\n",
    "data = [[avg_accuracy, avg_precision, avg_recall, avg_f1]]\n",
    "data_metrics = pd.DataFrame(data, columns=cols, index=['Logistic Regression'])\n",
    "data_metrics"
   ]
  },
  {
   "cell_type": "code",
   "execution_count": null,
   "metadata": {},
   "outputs": [],
   "source": []
  }
 ],
 "metadata": {
  "kernelspec": {
   "display_name": "CSCI_4022",
   "language": "python",
   "name": "python3"
  },
  "language_info": {
   "codemirror_mode": {
    "name": "ipython",
    "version": 3
   },
   "file_extension": ".py",
   "mimetype": "text/x-python",
   "name": "python",
   "nbconvert_exporter": "python",
   "pygments_lexer": "ipython3",
   "version": "3.11.7"
  }
 },
 "nbformat": 4,
 "nbformat_minor": 2
}
