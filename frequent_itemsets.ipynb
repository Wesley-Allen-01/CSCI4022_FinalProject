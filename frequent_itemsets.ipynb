{
 "cells": [
  {
   "cell_type": "code",
   "execution_count": 5,
   "metadata": {},
   "outputs": [],
   "source": [
    "# %pip install nltk"
   ]
  },
  {
   "cell_type": "code",
   "execution_count": 1,
   "metadata": {},
   "outputs": [
    {
     "name": "stderr",
     "output_type": "stream",
     "text": [
      "[nltk_data] Downloading package stopwords to\n",
      "[nltk_data]     /Users/wesleyallen/nltk_data...\n",
      "[nltk_data]   Package stopwords is already up-to-date!\n",
      "[nltk_data] Downloading package punkt to\n",
      "[nltk_data]     /Users/wesleyallen/nltk_data...\n",
      "[nltk_data]   Package punkt is already up-to-date!\n"
     ]
    }
   ],
   "source": [
    "import stop_words as sw\n",
    "import pandas as pd\n",
    "from sklearn.feature_extraction.text import CountVectorizer\n",
    "from sklearn.metrics import confusion_matrix, accuracy_score, precision_score, recall_score, f1_score\n",
    "import seaborn as sns\n",
    "import matplotlib.pyplot as plt\n",
    "\n"
   ]
  },
  {
   "cell_type": "code",
   "execution_count": 3,
   "metadata": {},
   "outputs": [
    {
     "data": {
      "text/plain": [
       "['real', 'words', 'friends', 'made', 'along', 'way']"
      ]
     },
     "execution_count": 3,
     "metadata": {},
     "output_type": "execute_result"
    }
   ],
   "source": [
    "sw.stop_words(\"The real words are the friends we made along the way.\")"
   ]
  },
  {
   "cell_type": "code",
   "execution_count": 8,
   "metadata": {},
   "outputs": [],
   "source": [
    "election_data_train = pd.read_csv('data/elections/train/elections_train.csv')\n",
    "election_data_test = pd.read_csv('data/elections/test/elections_test.csv')\n",
    "\n"
   ]
  },
  {
   "cell_type": "code",
   "execution_count": 9,
   "metadata": {},
   "outputs": [
    {
     "data": {
      "text/html": [
       "<div>\n",
       "<style scoped>\n",
       "    .dataframe tbody tr th:only-of-type {\n",
       "        vertical-align: middle;\n",
       "    }\n",
       "\n",
       "    .dataframe tbody tr th {\n",
       "        vertical-align: top;\n",
       "    }\n",
       "\n",
       "    .dataframe thead th {\n",
       "        text-align: right;\n",
       "    }\n",
       "</style>\n",
       "<table border=\"1\" class=\"dataframe\">\n",
       "  <thead>\n",
       "    <tr style=\"text-align: right;\">\n",
       "      <th></th>\n",
       "      <th>topic</th>\n",
       "      <th>source</th>\n",
       "      <th>bias</th>\n",
       "      <th>url</th>\n",
       "      <th>title</th>\n",
       "      <th>date</th>\n",
       "      <th>authors</th>\n",
       "      <th>content</th>\n",
       "      <th>content_original</th>\n",
       "      <th>source_url</th>\n",
       "      <th>bias_text</th>\n",
       "      <th>ID</th>\n",
       "    </tr>\n",
       "  </thead>\n",
       "  <tbody>\n",
       "    <tr>\n",
       "      <th>0</th>\n",
       "      <td>elections</td>\n",
       "      <td>The Daily Wire</td>\n",
       "      <td>2</td>\n",
       "      <td>https://www.dailywire.com/news/52178/tulsi-gab...</td>\n",
       "      <td>Tulsi Gabbard Qualifies For Upcoming President...</td>\n",
       "      <td>NaN</td>\n",
       "      <td>NaN</td>\n",
       "      <td>Rep. Tulsi Gabbard ( D-HI ) has officially met...</td>\n",
       "      <td>Rep. Tulsi Gabbard (D-HI) has officially met t...</td>\n",
       "      <td>www.dailywire.com</td>\n",
       "      <td>right</td>\n",
       "      <td>diXbkrezTxsgcoJp</td>\n",
       "    </tr>\n",
       "    <tr>\n",
       "      <th>1</th>\n",
       "      <td>elections</td>\n",
       "      <td>Washington Times</td>\n",
       "      <td>2</td>\n",
       "      <td>https://www.washingtontimes.com/news/2019/jun/...</td>\n",
       "      <td>Candidate Hillary Clinton endorsed idea of pol...</td>\n",
       "      <td>2019-06-13</td>\n",
       "      <td>Rowan Scarborough</td>\n",
       "      <td>Hillary Clinton has endorsed the idea of obtai...</td>\n",
       "      <td>Hillary Clinton has endorsed the idea of obtai...</td>\n",
       "      <td>www.washingtontimes.com</td>\n",
       "      <td>right</td>\n",
       "      <td>0ERzAbVMeKjFGiox</td>\n",
       "    </tr>\n",
       "    <tr>\n",
       "      <th>2</th>\n",
       "      <td>elections</td>\n",
       "      <td>The Hill</td>\n",
       "      <td>1</td>\n",
       "      <td>https://thehill.com/homenews/campaign/431181-t...</td>\n",
       "      <td>Trump unleashing digital juggernaut ahead of 2020</td>\n",
       "      <td>2019-02-25</td>\n",
       "      <td>NaN</td>\n",
       "      <td>President Trump Donald John TrumpSessions says...</td>\n",
       "      <td>President Trump Donald John TrumpSessions says...</td>\n",
       "      <td>www.thehill.com</td>\n",
       "      <td>center</td>\n",
       "      <td>641HsrEBG9vsQjQT</td>\n",
       "    </tr>\n",
       "    <tr>\n",
       "      <th>3</th>\n",
       "      <td>elections</td>\n",
       "      <td>Reuters</td>\n",
       "      <td>1</td>\n",
       "      <td>https://www.reuters.com/article/us-usa-electio...</td>\n",
       "      <td>Russia looms large as U.S. election officials ...</td>\n",
       "      <td>2018-02-19</td>\n",
       "      <td>Dustin Volz</td>\n",
       "      <td>WASHINGTON ( ███ ) - Ten months before the Uni...</td>\n",
       "      <td>WASHINGTON (Reuters) - Ten months before the U...</td>\n",
       "      <td>www.reuters.com</td>\n",
       "      <td>center</td>\n",
       "      <td>yJimQY11fGmT0Dyw</td>\n",
       "    </tr>\n",
       "    <tr>\n",
       "      <th>4</th>\n",
       "      <td>elections</td>\n",
       "      <td>Salon</td>\n",
       "      <td>0</td>\n",
       "      <td>http://www.salon.com/2016/03/11/the_republican...</td>\n",
       "      <td>After the latest debacle, we agree with Donald...</td>\n",
       "      <td>2016-03-11</td>\n",
       "      <td>Elias Isquith</td>\n",
       "      <td>If you ’ re not a masochist — or even if you a...</td>\n",
       "      <td>If you’re not a masochist — or even if you are...</td>\n",
       "      <td>www.salon.com</td>\n",
       "      <td>left</td>\n",
       "      <td>bQm3oIyjS1aGUXP4</td>\n",
       "    </tr>\n",
       "  </tbody>\n",
       "</table>\n",
       "</div>"
      ],
      "text/plain": [
       "       topic            source  bias  \\\n",
       "0  elections    The Daily Wire     2   \n",
       "1  elections  Washington Times     2   \n",
       "2  elections          The Hill     1   \n",
       "3  elections           Reuters     1   \n",
       "4  elections             Salon     0   \n",
       "\n",
       "                                                 url  \\\n",
       "0  https://www.dailywire.com/news/52178/tulsi-gab...   \n",
       "1  https://www.washingtontimes.com/news/2019/jun/...   \n",
       "2  https://thehill.com/homenews/campaign/431181-t...   \n",
       "3  https://www.reuters.com/article/us-usa-electio...   \n",
       "4  http://www.salon.com/2016/03/11/the_republican...   \n",
       "\n",
       "                                               title        date  \\\n",
       "0  Tulsi Gabbard Qualifies For Upcoming President...         NaN   \n",
       "1  Candidate Hillary Clinton endorsed idea of pol...  2019-06-13   \n",
       "2  Trump unleashing digital juggernaut ahead of 2020  2019-02-25   \n",
       "3  Russia looms large as U.S. election officials ...  2018-02-19   \n",
       "4  After the latest debacle, we agree with Donald...  2016-03-11   \n",
       "\n",
       "             authors                                            content  \\\n",
       "0                NaN  Rep. Tulsi Gabbard ( D-HI ) has officially met...   \n",
       "1  Rowan Scarborough  Hillary Clinton has endorsed the idea of obtai...   \n",
       "2                NaN  President Trump Donald John TrumpSessions says...   \n",
       "3        Dustin Volz  WASHINGTON ( ███ ) - Ten months before the Uni...   \n",
       "4      Elias Isquith  If you ’ re not a masochist — or even if you a...   \n",
       "\n",
       "                                    content_original               source_url  \\\n",
       "0  Rep. Tulsi Gabbard (D-HI) has officially met t...        www.dailywire.com   \n",
       "1  Hillary Clinton has endorsed the idea of obtai...  www.washingtontimes.com   \n",
       "2  President Trump Donald John TrumpSessions says...          www.thehill.com   \n",
       "3  WASHINGTON (Reuters) - Ten months before the U...          www.reuters.com   \n",
       "4  If you’re not a masochist — or even if you are...            www.salon.com   \n",
       "\n",
       "  bias_text                ID  \n",
       "0     right  diXbkrezTxsgcoJp  \n",
       "1     right  0ERzAbVMeKjFGiox  \n",
       "2    center  641HsrEBG9vsQjQT  \n",
       "3    center  yJimQY11fGmT0Dyw  \n",
       "4      left  bQm3oIyjS1aGUXP4  "
      ]
     },
     "execution_count": 9,
     "metadata": {},
     "output_type": "execute_result"
    }
   ],
   "source": [
    "election_data_train.head()"
   ]
  },
  {
   "cell_type": "code",
   "execution_count": 10,
   "metadata": {},
   "outputs": [
    {
     "data": {
      "text/plain": [
       "\"Rep. Tulsi Gabbard ( D-HI ) has officially met the Democratic National Committee ’ s ( DNC ) threshold to qualify for the upcoming Democratic presidential primary debate in October .\\nIn order to nab a podium on the next debate state in Westerville , Ohio , presidential candidates must raise campaign donations from no fewer than 130,000 individual donors and receive at least 2 % of the vote in four or more polls that have been pre-approved by the DNC .\\nA certified poll conducted by Monmouth University shows that the Hawaii congresswoman received 2 % support in the early voting state of New Hampshire . The poll , released on Tuesday , marks the final benchmark that she needed to overcome on order to receive an invitation onto the stage .\\nGabbard is now the twelfth presidential hopeful to meet the qualifying threshold and subsequently accept an invitation onto the debate stage : Former Vice President Joe Biden , Sen. Cory Booker ( D-NJ ) , South Bend , Indiana Mayor Pete Buttigieg , former Housing and Urban Development Secretary Julian Castro , Sen. Kamala Harris ( D-CA ) , Sen. Amy Klobuchar ( D-MN ) , former Rep. Beto O ’ Rourke ( D-TX ) , Sen. Bernie Sanders ( I-VT ) , financier Tom Steyer , Sen. Elizabeth Warren ( D-MA ) , and entrepreneur Andrew Yang will also be participating .\\nNotably , both Steyer and Gabbard failed to meet the criteria to appear in September ’ s debate in Houston , Texas .\\nGabbard , however , has been an outspoken critic of the DNC ’ s lack of transparency and arbitrary determination of which polls are deemed eligible for qualification purposes . Her campaign urged the DNC to reconsider their criteria and further slammed the organization for hindering conversations “ between future leaders of this country . ”\\n“ The DNC set a threshold that candidates must meet at least 2 % in four DNC-certified polls in order to qualify for the third and fourth Democratic primary debates , ” the campaign wrote in a statement in August . “ However , the DNC has not released their criteria for selecting the 16 polling organizations they deem ‘ certifiable . ' ”\\n“ Rep . Gabbard has exceeded the 2 % support in 26 national and early state polls , but only two of them are on the DNC ’ s ‘ certified ’ list , ” the statement continued at the time . “ Many of the uncertified polls , including those conducted by highly reputable organizations such as The Economist and The Boston Globe are ranked by Real Clear Politics and FiveThirtyEight as more accurate than some ‘ certified ’ polls . ”\\nGabbard is likely to be the final presidential contender to receive an invitation onto the fourth debate stage . Qualifications for participating in the event end on October 1 and author Marianne Williamson is the only remaining candidate to have passed the donor threshold . Williamson , however , is still three DNC-approved polls short of hitting the benchmark .\\nThe DNC announced on Monday that it will be raising the criteria for the fifth debate in an attempt to further narrow down the crowded Democratic primary field .\\nIn order to receive an invitation onto November ’ s debate stage , presidential candidates must raise campaign donations from no fewer than 165,000 individual donors . In addition , they must also receive at least 3 % of the vote in four general DNC-approved polls and 5 % in two early-state polls — such as those in Iowa , New Hampshire , Nevada , or South Carolina .\""
      ]
     },
     "execution_count": 10,
     "metadata": {},
     "output_type": "execute_result"
    }
   ],
   "source": [
    "election_data_train.loc[0, 'content']"
   ]
  },
  {
   "cell_type": "code",
   "execution_count": 11,
   "metadata": {},
   "outputs": [],
   "source": [
    "election_data_train['content'] = election_data_train['content'].apply(lambda x: x.lower())"
   ]
  },
  {
   "cell_type": "code",
   "execution_count": 12,
   "metadata": {},
   "outputs": [
    {
     "data": {
      "text/html": [
       "<div>\n",
       "<style scoped>\n",
       "    .dataframe tbody tr th:only-of-type {\n",
       "        vertical-align: middle;\n",
       "    }\n",
       "\n",
       "    .dataframe tbody tr th {\n",
       "        vertical-align: top;\n",
       "    }\n",
       "\n",
       "    .dataframe thead th {\n",
       "        text-align: right;\n",
       "    }\n",
       "</style>\n",
       "<table border=\"1\" class=\"dataframe\">\n",
       "  <thead>\n",
       "    <tr style=\"text-align: right;\">\n",
       "      <th></th>\n",
       "      <th>topic</th>\n",
       "      <th>source</th>\n",
       "      <th>bias</th>\n",
       "      <th>url</th>\n",
       "      <th>title</th>\n",
       "      <th>date</th>\n",
       "      <th>authors</th>\n",
       "      <th>content</th>\n",
       "      <th>content_original</th>\n",
       "      <th>source_url</th>\n",
       "      <th>bias_text</th>\n",
       "      <th>ID</th>\n",
       "    </tr>\n",
       "  </thead>\n",
       "  <tbody>\n",
       "    <tr>\n",
       "      <th>0</th>\n",
       "      <td>elections</td>\n",
       "      <td>The Daily Wire</td>\n",
       "      <td>2</td>\n",
       "      <td>https://www.dailywire.com/news/52178/tulsi-gab...</td>\n",
       "      <td>Tulsi Gabbard Qualifies For Upcoming President...</td>\n",
       "      <td>NaN</td>\n",
       "      <td>NaN</td>\n",
       "      <td>rep. tulsi gabbard ( d-hi ) has officially met...</td>\n",
       "      <td>Rep. Tulsi Gabbard (D-HI) has officially met t...</td>\n",
       "      <td>www.dailywire.com</td>\n",
       "      <td>right</td>\n",
       "      <td>diXbkrezTxsgcoJp</td>\n",
       "    </tr>\n",
       "    <tr>\n",
       "      <th>1</th>\n",
       "      <td>elections</td>\n",
       "      <td>Washington Times</td>\n",
       "      <td>2</td>\n",
       "      <td>https://www.washingtontimes.com/news/2019/jun/...</td>\n",
       "      <td>Candidate Hillary Clinton endorsed idea of pol...</td>\n",
       "      <td>2019-06-13</td>\n",
       "      <td>Rowan Scarborough</td>\n",
       "      <td>hillary clinton has endorsed the idea of obtai...</td>\n",
       "      <td>Hillary Clinton has endorsed the idea of obtai...</td>\n",
       "      <td>www.washingtontimes.com</td>\n",
       "      <td>right</td>\n",
       "      <td>0ERzAbVMeKjFGiox</td>\n",
       "    </tr>\n",
       "    <tr>\n",
       "      <th>2</th>\n",
       "      <td>elections</td>\n",
       "      <td>The Hill</td>\n",
       "      <td>1</td>\n",
       "      <td>https://thehill.com/homenews/campaign/431181-t...</td>\n",
       "      <td>Trump unleashing digital juggernaut ahead of 2020</td>\n",
       "      <td>2019-02-25</td>\n",
       "      <td>NaN</td>\n",
       "      <td>president trump donald john trumpsessions says...</td>\n",
       "      <td>President Trump Donald John TrumpSessions says...</td>\n",
       "      <td>www.thehill.com</td>\n",
       "      <td>center</td>\n",
       "      <td>641HsrEBG9vsQjQT</td>\n",
       "    </tr>\n",
       "    <tr>\n",
       "      <th>3</th>\n",
       "      <td>elections</td>\n",
       "      <td>Reuters</td>\n",
       "      <td>1</td>\n",
       "      <td>https://www.reuters.com/article/us-usa-electio...</td>\n",
       "      <td>Russia looms large as U.S. election officials ...</td>\n",
       "      <td>2018-02-19</td>\n",
       "      <td>Dustin Volz</td>\n",
       "      <td>washington ( ███ ) - ten months before the uni...</td>\n",
       "      <td>WASHINGTON (Reuters) - Ten months before the U...</td>\n",
       "      <td>www.reuters.com</td>\n",
       "      <td>center</td>\n",
       "      <td>yJimQY11fGmT0Dyw</td>\n",
       "    </tr>\n",
       "    <tr>\n",
       "      <th>4</th>\n",
       "      <td>elections</td>\n",
       "      <td>Salon</td>\n",
       "      <td>0</td>\n",
       "      <td>http://www.salon.com/2016/03/11/the_republican...</td>\n",
       "      <td>After the latest debacle, we agree with Donald...</td>\n",
       "      <td>2016-03-11</td>\n",
       "      <td>Elias Isquith</td>\n",
       "      <td>if you ’ re not a masochist — or even if you a...</td>\n",
       "      <td>If you’re not a masochist — or even if you are...</td>\n",
       "      <td>www.salon.com</td>\n",
       "      <td>left</td>\n",
       "      <td>bQm3oIyjS1aGUXP4</td>\n",
       "    </tr>\n",
       "  </tbody>\n",
       "</table>\n",
       "</div>"
      ],
      "text/plain": [
       "       topic            source  bias  \\\n",
       "0  elections    The Daily Wire     2   \n",
       "1  elections  Washington Times     2   \n",
       "2  elections          The Hill     1   \n",
       "3  elections           Reuters     1   \n",
       "4  elections             Salon     0   \n",
       "\n",
       "                                                 url  \\\n",
       "0  https://www.dailywire.com/news/52178/tulsi-gab...   \n",
       "1  https://www.washingtontimes.com/news/2019/jun/...   \n",
       "2  https://thehill.com/homenews/campaign/431181-t...   \n",
       "3  https://www.reuters.com/article/us-usa-electio...   \n",
       "4  http://www.salon.com/2016/03/11/the_republican...   \n",
       "\n",
       "                                               title        date  \\\n",
       "0  Tulsi Gabbard Qualifies For Upcoming President...         NaN   \n",
       "1  Candidate Hillary Clinton endorsed idea of pol...  2019-06-13   \n",
       "2  Trump unleashing digital juggernaut ahead of 2020  2019-02-25   \n",
       "3  Russia looms large as U.S. election officials ...  2018-02-19   \n",
       "4  After the latest debacle, we agree with Donald...  2016-03-11   \n",
       "\n",
       "             authors                                            content  \\\n",
       "0                NaN  rep. tulsi gabbard ( d-hi ) has officially met...   \n",
       "1  Rowan Scarborough  hillary clinton has endorsed the idea of obtai...   \n",
       "2                NaN  president trump donald john trumpsessions says...   \n",
       "3        Dustin Volz  washington ( ███ ) - ten months before the uni...   \n",
       "4      Elias Isquith  if you ’ re not a masochist — or even if you a...   \n",
       "\n",
       "                                    content_original               source_url  \\\n",
       "0  Rep. Tulsi Gabbard (D-HI) has officially met t...        www.dailywire.com   \n",
       "1  Hillary Clinton has endorsed the idea of obtai...  www.washingtontimes.com   \n",
       "2  President Trump Donald John TrumpSessions says...          www.thehill.com   \n",
       "3  WASHINGTON (Reuters) - Ten months before the U...          www.reuters.com   \n",
       "4  If you’re not a masochist — or even if you are...            www.salon.com   \n",
       "\n",
       "  bias_text                ID  \n",
       "0     right  diXbkrezTxsgcoJp  \n",
       "1     right  0ERzAbVMeKjFGiox  \n",
       "2    center  641HsrEBG9vsQjQT  \n",
       "3    center  yJimQY11fGmT0Dyw  \n",
       "4      left  bQm3oIyjS1aGUXP4  "
      ]
     },
     "execution_count": 12,
     "metadata": {},
     "output_type": "execute_result"
    }
   ],
   "source": [
    "election_data_train.head()"
   ]
  },
  {
   "cell_type": "code",
   "execution_count": 13,
   "metadata": {},
   "outputs": [
    {
     "data": {
      "text/html": [
       "<div>\n",
       "<style scoped>\n",
       "    .dataframe tbody tr th:only-of-type {\n",
       "        vertical-align: middle;\n",
       "    }\n",
       "\n",
       "    .dataframe tbody tr th {\n",
       "        vertical-align: top;\n",
       "    }\n",
       "\n",
       "    .dataframe thead th {\n",
       "        text-align: right;\n",
       "    }\n",
       "</style>\n",
       "<table border=\"1\" class=\"dataframe\">\n",
       "  <thead>\n",
       "    <tr style=\"text-align: right;\">\n",
       "      <th></th>\n",
       "      <th>topic</th>\n",
       "      <th>source</th>\n",
       "      <th>bias</th>\n",
       "      <th>url</th>\n",
       "      <th>title</th>\n",
       "      <th>date</th>\n",
       "      <th>authors</th>\n",
       "      <th>content</th>\n",
       "      <th>content_original</th>\n",
       "      <th>source_url</th>\n",
       "      <th>bias_text</th>\n",
       "      <th>ID</th>\n",
       "    </tr>\n",
       "  </thead>\n",
       "  <tbody>\n",
       "    <tr>\n",
       "      <th>4</th>\n",
       "      <td>elections</td>\n",
       "      <td>Salon</td>\n",
       "      <td>0</td>\n",
       "      <td>http://www.salon.com/2016/03/11/the_republican...</td>\n",
       "      <td>After the latest debacle, we agree with Donald...</td>\n",
       "      <td>2016-03-11</td>\n",
       "      <td>Elias Isquith</td>\n",
       "      <td>if you ’ re not a masochist — or even if you a...</td>\n",
       "      <td>If you’re not a masochist — or even if you are...</td>\n",
       "      <td>www.salon.com</td>\n",
       "      <td>left</td>\n",
       "      <td>bQm3oIyjS1aGUXP4</td>\n",
       "    </tr>\n",
       "    <tr>\n",
       "      <th>7</th>\n",
       "      <td>elections</td>\n",
       "      <td>Daily Beast</td>\n",
       "      <td>0</td>\n",
       "      <td>http://www.thedailybeast.com/articles/2016/02/...</td>\n",
       "      <td>Can Anyone Beat Trump in the Primary? History ...</td>\n",
       "      <td>2016-02-21</td>\n",
       "      <td>Jeff Greenfield</td>\n",
       "      <td>let ’ s say you ’ re a republican who is looki...</td>\n",
       "      <td>Let’s say you’re a Republican who is looking w...</td>\n",
       "      <td>www.thedailybeast.com</td>\n",
       "      <td>left</td>\n",
       "      <td>ssRK5R00fElhRDwf</td>\n",
       "    </tr>\n",
       "    <tr>\n",
       "      <th>9</th>\n",
       "      <td>elections</td>\n",
       "      <td>CNN (Web News)</td>\n",
       "      <td>0</td>\n",
       "      <td>https://www.cnn.com/2019/06/27/politics/democr...</td>\n",
       "      <td>Harris' attack on Joe Biden steals spotlight a...</td>\n",
       "      <td>2019-06-27</td>\n",
       "      <td>Maeve Reston</td>\n",
       "      <td>( cnn ) democratic voters tuned into thursday ...</td>\n",
       "      <td>(CNN) Democratic voters tuned into Thursday ni...</td>\n",
       "      <td>www.cnn.com</td>\n",
       "      <td>left</td>\n",
       "      <td>vRQSAevQJjnR1xZT</td>\n",
       "    </tr>\n",
       "    <tr>\n",
       "      <th>16</th>\n",
       "      <td>elections</td>\n",
       "      <td>Salon</td>\n",
       "      <td>0</td>\n",
       "      <td>http://www.salon.com/2015/05/18/karmic_justice...</td>\n",
       "      <td>Marco Rubio gets his comeuppance: How his Fox ...</td>\n",
       "      <td>2015-05-18</td>\n",
       "      <td>Joan Walsh</td>\n",
       "      <td>the 2016 gop hopeful most helped by jeb bush ’...</td>\n",
       "      <td>The 2016 GOP hopeful most helped by Jeb Bush’s...</td>\n",
       "      <td>www.salon.com</td>\n",
       "      <td>left</td>\n",
       "      <td>LTpG2npyWfTsSnqB</td>\n",
       "    </tr>\n",
       "    <tr>\n",
       "      <th>18</th>\n",
       "      <td>elections</td>\n",
       "      <td>The Guardian</td>\n",
       "      <td>0</td>\n",
       "      <td>https://www.theguardian.com/us-news/2016/aug/1...</td>\n",
       "      <td>How Trump's campaign chief got a strongman ele...</td>\n",
       "      <td>2016-08-16</td>\n",
       "      <td>Luke Harding, Serhiy Leshchenko</td>\n",
       "      <td>paul manafort , who reportedly was a recipient...</td>\n",
       "      <td>Paul Manafort, who reportedly was a recipient ...</td>\n",
       "      <td>www.theguardian.com</td>\n",
       "      <td>left</td>\n",
       "      <td>Rl65sgSkT6wW419l</td>\n",
       "    </tr>\n",
       "  </tbody>\n",
       "</table>\n",
       "</div>"
      ],
      "text/plain": [
       "        topic          source  bias  \\\n",
       "4   elections           Salon     0   \n",
       "7   elections     Daily Beast     0   \n",
       "9   elections  CNN (Web News)     0   \n",
       "16  elections           Salon     0   \n",
       "18  elections    The Guardian     0   \n",
       "\n",
       "                                                  url  \\\n",
       "4   http://www.salon.com/2016/03/11/the_republican...   \n",
       "7   http://www.thedailybeast.com/articles/2016/02/...   \n",
       "9   https://www.cnn.com/2019/06/27/politics/democr...   \n",
       "16  http://www.salon.com/2015/05/18/karmic_justice...   \n",
       "18  https://www.theguardian.com/us-news/2016/aug/1...   \n",
       "\n",
       "                                                title        date  \\\n",
       "4   After the latest debacle, we agree with Donald...  2016-03-11   \n",
       "7   Can Anyone Beat Trump in the Primary? History ...  2016-02-21   \n",
       "9   Harris' attack on Joe Biden steals spotlight a...  2019-06-27   \n",
       "16  Marco Rubio gets his comeuppance: How his Fox ...  2015-05-18   \n",
       "18  How Trump's campaign chief got a strongman ele...  2016-08-16   \n",
       "\n",
       "                            authors  \\\n",
       "4                     Elias Isquith   \n",
       "7                   Jeff Greenfield   \n",
       "9                      Maeve Reston   \n",
       "16                       Joan Walsh   \n",
       "18  Luke Harding, Serhiy Leshchenko   \n",
       "\n",
       "                                              content  \\\n",
       "4   if you ’ re not a masochist — or even if you a...   \n",
       "7   let ’ s say you ’ re a republican who is looki...   \n",
       "9   ( cnn ) democratic voters tuned into thursday ...   \n",
       "16  the 2016 gop hopeful most helped by jeb bush ’...   \n",
       "18  paul manafort , who reportedly was a recipient...   \n",
       "\n",
       "                                     content_original             source_url  \\\n",
       "4   If you’re not a masochist — or even if you are...          www.salon.com   \n",
       "7   Let’s say you’re a Republican who is looking w...  www.thedailybeast.com   \n",
       "9   (CNN) Democratic voters tuned into Thursday ni...            www.cnn.com   \n",
       "16  The 2016 GOP hopeful most helped by Jeb Bush’s...          www.salon.com   \n",
       "18  Paul Manafort, who reportedly was a recipient ...    www.theguardian.com   \n",
       "\n",
       "   bias_text                ID  \n",
       "4       left  bQm3oIyjS1aGUXP4  \n",
       "7       left  ssRK5R00fElhRDwf  \n",
       "9       left  vRQSAevQJjnR1xZT  \n",
       "16      left  LTpG2npyWfTsSnqB  \n",
       "18      left  Rl65sgSkT6wW419l  "
      ]
     },
     "execution_count": 13,
     "metadata": {},
     "output_type": "execute_result"
    }
   ],
   "source": [
    "left_elections_train = election_data_train[election_data_train['bias'] == 0]\n",
    "left_elections_train.head()"
   ]
  },
  {
   "cell_type": "code",
   "execution_count": 14,
   "metadata": {},
   "outputs": [
    {
     "data": {
      "text/html": [
       "<div>\n",
       "<style scoped>\n",
       "    .dataframe tbody tr th:only-of-type {\n",
       "        vertical-align: middle;\n",
       "    }\n",
       "\n",
       "    .dataframe tbody tr th {\n",
       "        vertical-align: top;\n",
       "    }\n",
       "\n",
       "    .dataframe thead th {\n",
       "        text-align: right;\n",
       "    }\n",
       "</style>\n",
       "<table border=\"1\" class=\"dataframe\">\n",
       "  <thead>\n",
       "    <tr style=\"text-align: right;\">\n",
       "      <th></th>\n",
       "      <th>topic</th>\n",
       "      <th>source</th>\n",
       "      <th>bias</th>\n",
       "      <th>url</th>\n",
       "      <th>title</th>\n",
       "      <th>date</th>\n",
       "      <th>authors</th>\n",
       "      <th>content</th>\n",
       "      <th>content_original</th>\n",
       "      <th>source_url</th>\n",
       "      <th>bias_text</th>\n",
       "      <th>ID</th>\n",
       "    </tr>\n",
       "  </thead>\n",
       "  <tbody>\n",
       "    <tr>\n",
       "      <th>0</th>\n",
       "      <td>elections</td>\n",
       "      <td>The Daily Wire</td>\n",
       "      <td>2</td>\n",
       "      <td>https://www.dailywire.com/news/52178/tulsi-gab...</td>\n",
       "      <td>Tulsi Gabbard Qualifies For Upcoming President...</td>\n",
       "      <td>NaN</td>\n",
       "      <td>NaN</td>\n",
       "      <td>rep. tulsi gabbard ( d-hi ) has officially met...</td>\n",
       "      <td>Rep. Tulsi Gabbard (D-HI) has officially met t...</td>\n",
       "      <td>www.dailywire.com</td>\n",
       "      <td>right</td>\n",
       "      <td>diXbkrezTxsgcoJp</td>\n",
       "    </tr>\n",
       "    <tr>\n",
       "      <th>1</th>\n",
       "      <td>elections</td>\n",
       "      <td>Washington Times</td>\n",
       "      <td>2</td>\n",
       "      <td>https://www.washingtontimes.com/news/2019/jun/...</td>\n",
       "      <td>Candidate Hillary Clinton endorsed idea of pol...</td>\n",
       "      <td>2019-06-13</td>\n",
       "      <td>Rowan Scarborough</td>\n",
       "      <td>hillary clinton has endorsed the idea of obtai...</td>\n",
       "      <td>Hillary Clinton has endorsed the idea of obtai...</td>\n",
       "      <td>www.washingtontimes.com</td>\n",
       "      <td>right</td>\n",
       "      <td>0ERzAbVMeKjFGiox</td>\n",
       "    </tr>\n",
       "    <tr>\n",
       "      <th>5</th>\n",
       "      <td>elections</td>\n",
       "      <td>CBN</td>\n",
       "      <td>2</td>\n",
       "      <td>http://www1.cbn.com/cbnnews/politics/2016/Marc...</td>\n",
       "      <td>Down and Dirty: Mud Flies at Republican Debate</td>\n",
       "      <td>2016-03-03</td>\n",
       "      <td>NaN</td>\n",
       "      <td>detroit -- the republican presidential contest...</td>\n",
       "      <td>DETROIT -- The Republican presidential contest...</td>\n",
       "      <td>www1.cbn.com</td>\n",
       "      <td>right</td>\n",
       "      <td>K7bY8YrqFBchjDaQ</td>\n",
       "    </tr>\n",
       "    <tr>\n",
       "      <th>8</th>\n",
       "      <td>elections</td>\n",
       "      <td>Reason</td>\n",
       "      <td>2</td>\n",
       "      <td>https://reason.com/blog/2017/05/08/macron-win-...</td>\n",
       "      <td>Macron Victory Not Yet a Win for Globalization...</td>\n",
       "      <td>2017-05-08</td>\n",
       "      <td>Ed Krayewski, Billy Binion, Scott Shackford, J...</td>\n",
       "      <td>emmanuel macron , the former economy minister ...</td>\n",
       "      <td>Emmanuel Macron, the former economy minister w...</td>\n",
       "      <td>www.reason.com</td>\n",
       "      <td>right</td>\n",
       "      <td>V0kGXHPo4uXJyoBL</td>\n",
       "    </tr>\n",
       "    <tr>\n",
       "      <th>11</th>\n",
       "      <td>elections</td>\n",
       "      <td>Washington Times</td>\n",
       "      <td>2</td>\n",
       "      <td>http://www.washingtontimes.com/news/2016/apr/8...</td>\n",
       "      <td>Bernie Sanders surrenders: ‘Of course’ Hillary...</td>\n",
       "      <td>2016-04-08</td>\n",
       "      <td>David Sherfinski</td>\n",
       "      <td>sen. bernard sanders on friday said “ of cours...</td>\n",
       "      <td>Sen. Bernard Sanders on Friday said “of course...</td>\n",
       "      <td>www.washingtontimes.com</td>\n",
       "      <td>right</td>\n",
       "      <td>weCcwDuG8j9nsIRS</td>\n",
       "    </tr>\n",
       "  </tbody>\n",
       "</table>\n",
       "</div>"
      ],
      "text/plain": [
       "        topic            source  bias  \\\n",
       "0   elections    The Daily Wire     2   \n",
       "1   elections  Washington Times     2   \n",
       "5   elections               CBN     2   \n",
       "8   elections            Reason     2   \n",
       "11  elections  Washington Times     2   \n",
       "\n",
       "                                                  url  \\\n",
       "0   https://www.dailywire.com/news/52178/tulsi-gab...   \n",
       "1   https://www.washingtontimes.com/news/2019/jun/...   \n",
       "5   http://www1.cbn.com/cbnnews/politics/2016/Marc...   \n",
       "8   https://reason.com/blog/2017/05/08/macron-win-...   \n",
       "11  http://www.washingtontimes.com/news/2016/apr/8...   \n",
       "\n",
       "                                                title        date  \\\n",
       "0   Tulsi Gabbard Qualifies For Upcoming President...         NaN   \n",
       "1   Candidate Hillary Clinton endorsed idea of pol...  2019-06-13   \n",
       "5      Down and Dirty: Mud Flies at Republican Debate  2016-03-03   \n",
       "8   Macron Victory Not Yet a Win for Globalization...  2017-05-08   \n",
       "11  Bernie Sanders surrenders: ‘Of course’ Hillary...  2016-04-08   \n",
       "\n",
       "                                              authors  \\\n",
       "0                                                 NaN   \n",
       "1                                   Rowan Scarborough   \n",
       "5                                                 NaN   \n",
       "8   Ed Krayewski, Billy Binion, Scott Shackford, J...   \n",
       "11                                   David Sherfinski   \n",
       "\n",
       "                                              content  \\\n",
       "0   rep. tulsi gabbard ( d-hi ) has officially met...   \n",
       "1   hillary clinton has endorsed the idea of obtai...   \n",
       "5   detroit -- the republican presidential contest...   \n",
       "8   emmanuel macron , the former economy minister ...   \n",
       "11  sen. bernard sanders on friday said “ of cours...   \n",
       "\n",
       "                                     content_original  \\\n",
       "0   Rep. Tulsi Gabbard (D-HI) has officially met t...   \n",
       "1   Hillary Clinton has endorsed the idea of obtai...   \n",
       "5   DETROIT -- The Republican presidential contest...   \n",
       "8   Emmanuel Macron, the former economy minister w...   \n",
       "11  Sen. Bernard Sanders on Friday said “of course...   \n",
       "\n",
       "                 source_url bias_text                ID  \n",
       "0         www.dailywire.com     right  diXbkrezTxsgcoJp  \n",
       "1   www.washingtontimes.com     right  0ERzAbVMeKjFGiox  \n",
       "5              www1.cbn.com     right  K7bY8YrqFBchjDaQ  \n",
       "8            www.reason.com     right  V0kGXHPo4uXJyoBL  \n",
       "11  www.washingtontimes.com     right  weCcwDuG8j9nsIRS  "
      ]
     },
     "execution_count": 14,
     "metadata": {},
     "output_type": "execute_result"
    }
   ],
   "source": [
    "right_elections_train = election_data_train[election_data_train['bias'] == 2]\n",
    "right_elections_train.head()"
   ]
  },
  {
   "cell_type": "code",
   "execution_count": 16,
   "metadata": {},
   "outputs": [],
   "source": [
    "left_leaning_articles = left_elections_train['content'].values\n",
    "right_leaning_articles = right_elections_train['content'].values"
   ]
  },
  {
   "cell_type": "code",
   "execution_count": 2,
   "metadata": {},
   "outputs": [],
   "source": [
    "def get_frequent_words(texts, support=0.1):\n",
    "    vectorizer = CountVectorizer(stop_words='english')\n",
    "    X = vectorizer.fit_transform(texts)\n",
    "    # change X to not show counts, but instead be a 0 or 1 if the word is present\n",
    "    X[X > 0] = 1\n",
    "    word_counts = pd.DataFrame(X.toarray(), columns=vectorizer.get_feature_names_out())\n",
    "    frequent_words = word_counts.mean().sort_values(ascending=False)\n",
    "    \n",
    "    return frequent_words[frequent_words > support]\n"
   ]
  },
  {
   "cell_type": "code",
   "execution_count": 18,
   "metadata": {},
   "outputs": [
    {
     "data": {
      "text/plain": [
       "said          0.845133\n",
       "president     0.814159\n",
       "campaign      0.809735\n",
       "just          0.763274\n",
       "new           0.738938\n",
       "                ...   \n",
       "particular    0.101770\n",
       "direction     0.101770\n",
       "create        0.101770\n",
       "summer        0.101770\n",
       "emails        0.101770\n",
       "Length: 729, dtype: float64"
      ]
     },
     "execution_count": 18,
     "metadata": {},
     "output_type": "execute_result"
    }
   ],
   "source": [
    "get_frequent_words(left_leaning_articles)"
   ]
  },
  {
   "cell_type": "code",
   "execution_count": 19,
   "metadata": {},
   "outputs": [
    {
     "data": {
      "text/plain": [
       "said          0.780488\n",
       "president     0.756098\n",
       "new           0.712737\n",
       "campaign      0.704607\n",
       "republican    0.650407\n",
       "                ...   \n",
       "current       0.100271\n",
       "claims        0.100271\n",
       "super         0.100271\n",
       "answer        0.100271\n",
       "debates       0.100271\n",
       "Length: 509, dtype: float64"
      ]
     },
     "execution_count": 19,
     "metadata": {},
     "output_type": "execute_result"
    }
   ],
   "source": [
    "get_frequent_words(right_leaning_articles)"
   ]
  },
  {
   "cell_type": "code",
   "execution_count": 20,
   "metadata": {},
   "outputs": [],
   "source": [
    "left_words = set(get_frequent_words(left_leaning_articles).index.to_list())\n",
    "right_words = set(get_frequent_words(right_leaning_articles).index.to_list())"
   ]
  },
  {
   "cell_type": "code",
   "execution_count": 21,
   "metadata": {},
   "outputs": [],
   "source": [
    "intersection = set(left_words).intersection(set(right_words))\n"
   ]
  },
  {
   "cell_type": "code",
   "execution_count": 22,
   "metadata": {},
   "outputs": [],
   "source": [
    "left_words = left_words - intersection\n",
    "right_words = right_words - intersection"
   ]
  },
  {
   "cell_type": "code",
   "execution_count": 23,
   "metadata": {},
   "outputs": [
    {
     "data": {
      "text/plain": [
       "(236, 16)"
      ]
     },
     "execution_count": 23,
     "metadata": {},
     "output_type": "execute_result"
    }
   ],
   "source": [
    "len(left_words), len(right_words)"
   ]
  },
  {
   "cell_type": "code",
   "execution_count": 24,
   "metadata": {},
   "outputs": [],
   "source": [
    "election_data_test = election_data_test[(election_data_test['bias'] == 0) | (election_data_test['bias'] == 2)]"
   ]
  },
  {
   "cell_type": "code",
   "execution_count": 25,
   "metadata": {},
   "outputs": [],
   "source": [
    "x = election_data_test['content'].values\n",
    "y = election_data_test['bias'].values"
   ]
  },
  {
   "cell_type": "code",
   "execution_count": 3,
   "metadata": {},
   "outputs": [],
   "source": [
    "def jaccard_similarity(s1, s2):\n",
    "    return len(s1.intersection(s2)) / len(s1.union(s2))\n",
    "\n",
    "def predict_bias(left_words, right_words, x):\n",
    "    y_pred = []\n",
    "    for article in x:\n",
    "        article_words = set(article.split())\n",
    "        left_similarity = jaccard_similarity(left_words, article_words)\n",
    "        right_similarity = jaccard_similarity(right_words, article_words)\n",
    "        if left_similarity > right_similarity:\n",
    "            y_pred.append(0)\n",
    "        else:\n",
    "            y_pred.append(2)\n",
    "    return y_pred"
   ]
  },
  {
   "cell_type": "code",
   "execution_count": 27,
   "metadata": {},
   "outputs": [],
   "source": [
    "y_pred = predict_bias(left_words, right_words, x)"
   ]
  },
  {
   "cell_type": "code",
   "execution_count": 28,
   "metadata": {},
   "outputs": [
    {
     "data": {
      "text/plain": [
       "0.5684549985341542"
      ]
     },
     "execution_count": 28,
     "metadata": {},
     "output_type": "execute_result"
    }
   ],
   "source": [
    "from sklearn.metrics import accuracy_score\n",
    "\n",
    "accuracy_score(y, y_pred)"
   ]
  },
  {
   "cell_type": "markdown",
   "metadata": {},
   "source": [
    "## Running this algorithm for each of the 5 most popular categories"
   ]
  },
  {
   "cell_type": "code",
   "execution_count": 4,
   "metadata": {},
   "outputs": [],
   "source": [
    "urls = ['data/elections', 'data/politics', 'data/white_house', 'data/immigration', 'data/healthcare']"
   ]
  },
  {
   "cell_type": "code",
   "execution_count": 5,
   "metadata": {},
   "outputs": [],
   "source": [
    "def preprocess(url):\n",
    "    data = pd.read_csv(f'{url}/train/{url.split(\"/\")[-1]}_train.csv')\n",
    "    \n",
    "    data['content'] = data['content'].apply(lambda x: x.lower())\n",
    "    left_leaning = data[data['bias'] == 0]\n",
    "    right_leaning = data[data['bias'] == 2]\n",
    "    \n",
    "    left_articles = left_leaning['content'].values\n",
    "    right_articles = right_leaning['content'].values\n",
    "    # print(f'Left leaning articles: {len(left_articles)}')\n",
    "    # print(f'Right leaning articles: {len(right_articles)}')\n",
    "    return left_articles, right_articles"
   ]
  },
  {
   "cell_type": "code",
   "execution_count": 6,
   "metadata": {},
   "outputs": [],
   "source": [
    "def get_frequents_for_all(left_articles, right_articles):\n",
    "    left_words = set(get_frequent_words(left_articles).index.to_list())\n",
    "    right_words = set(get_frequent_words(right_articles).index.to_list())\n",
    "    \n",
    "    intersection = set(left_words).intersection(set(right_words))\n",
    "    left_words = left_words - intersection\n",
    "    right_words = right_words - intersection\n",
    "    # print(f\"Length of left words: {len(left_words)}\")\n",
    "    # print(f\"Length of right words: {len(right_words)}\")\n",
    "    return left_words, right_words"
   ]
  },
  {
   "cell_type": "code",
   "execution_count": 7,
   "metadata": {},
   "outputs": [],
   "source": [
    "def process_test_data(url):\n",
    "    test_data = pd.read_csv(f'{url}/test/{url.split(\"/\")[-1]}_test.csv')\n",
    "    test_data = test_data[(test_data['bias'] == 0) | (test_data['bias'] == 2)]\n",
    "    test_data['content'] = test_data['content'].apply(lambda x: x.lower())\n",
    "    \n",
    "    return test_data['content'].values, test_data['bias'].values\n",
    "    "
   ]
  },
  {
   "cell_type": "code",
   "execution_count": 8,
   "metadata": {},
   "outputs": [],
   "source": [
    "def plot_confusion_matrix(cm):\n",
    "    fig, ax = plt.subplots()\n",
    "    print(cm)\n",
    "    sns.heatmap(cm, annot=True, cmap='Blues', fmt='g')\n",
    "    # plt.xlabel('True Lables')\n",
    "    # plt.ylabel('Predicted Labels')\n",
    "    # plt.title('Confusion Matrix')\n",
    "    # plt.set_ticklabels(['Left', 'Right'])\n",
    "    # plt.set_ticklabels(['Left', 'Right'])\n",
    "    \n",
    "    ax.set_xlabel('True Labels')\n",
    "    ax.set_ylabel('Predicted Labels')\n",
    "    ax.set_title('Confusion Matrix')\n",
    "    ax.set_xticklabels(['Left', 'Right'])\n",
    "    ax.set_yticklabels(['Left', 'Right'])\n",
    "    plt.show()"
   ]
  },
  {
   "cell_type": "code",
   "execution_count": 9,
   "metadata": {},
   "outputs": [],
   "source": [
    "def evaluate_model(x, y, left_words, right_words):\n",
    "    y_pred = predict_bias(left_words, right_words, x)\n",
    "    cm = confusion_matrix(y, y_pred)\n",
    "    acc = accuracy_score(y, y_pred)\n",
    "    precision = precision_score(y, y_pred, pos_label=2)\n",
    "    recall = recall_score(y, y_pred, pos_label=2)\n",
    "    f1 = f1_score(y, y_pred, pos_label=2)\n",
    "    macrof1 = f1_score(y, y_pred, average='macro')\n",
    "    microf1 = f1_score(y, y_pred, average='micro')\n",
    "    plot_confusion_matrix(cm)\n",
    "    return cm, acc, precision, recall, f1, macrof1, microf1"
   ]
  },
  {
   "cell_type": "code",
   "execution_count": 10,
   "metadata": {},
   "outputs": [],
   "source": [
    "def run_experiment(url):\n",
    "    left_articles, right_articles = preprocess(url)\n",
    "    left_words, right_words = get_frequents_for_all(left_articles, right_articles)\n",
    "    x, y = process_test_data(url)\n",
    "    return evaluate_model(x, y, left_words, right_words)"
   ]
  },
  {
   "cell_type": "code",
   "execution_count": 11,
   "metadata": {},
   "outputs": [
    {
     "name": "stdout",
     "output_type": "stream",
     "text": [
      "[[1932    3]\n",
      " [1469    7]]\n"
     ]
    },
    {
     "data": {
      "image/png": "[encoded data removed]",
      "text/plain": [
       "<Figure size 640x480 with 2 Axes>"
      ]
     },
     "metadata": {},
     "output_type": "display_data"
    },
    {
     "name": "stdout",
     "output_type": "stream",
     "text": [
      "elections accuracy: 0.56845\n",
      "elections macro f1: 0.36678\n",
      "elections Macro f1: 0.00942\n",
      "elections micro f1: 0.56845\n",
      "elections precision: 0.70000\n",
      "elections recall: 0.00474\n",
      "\n",
      "\n",
      "[[758   6]\n",
      " [840  14]]\n"
     ]
    },
    {
     "data": {
      "image/png": "[encoded data removed]",
      "text/plain": [
       "<Figure size 640x480 with 2 Axes>"
      ]
     },
     "metadata": {},
     "output_type": "display_data"
    },
    {
     "name": "stdout",
     "output_type": "stream",
     "text": [
      "politics accuracy: 0.47713\n",
      "politics macro f1: 0.33693\n",
      "politics Macro f1: 0.03204\n",
      "politics micro f1: 0.47713\n",
      "politics precision: 0.70000\n",
      "politics recall: 0.01639\n",
      "\n",
      "\n",
      "[[500  13]\n",
      " [544  25]]\n"
     ]
    },
    {
     "data": {
      "image/png": "[encoded data removed]",
      "text/plain": [
       "<Figure size 640x480 with 2 Axes>"
      ]
     },
     "metadata": {},
     "output_type": "display_data"
    },
    {
     "name": "stdout",
     "output_type": "stream",
     "text": [
      "white_house accuracy: 0.48521\n",
      "white_house macro f1: 0.36232\n",
      "white_house Macro f1: 0.08237\n",
      "white_house micro f1: 0.48521\n",
      "white_house precision: 0.65789\n",
      "white_house recall: 0.04394\n",
      "\n",
      "\n",
      "[[310  81]\n",
      " [314 210]]\n"
     ]
    },
    {
     "data": {
      "image/png": "[encoded data removed]",
      "text/plain": [
       "<Figure size 640x480 with 2 Axes>"
      ]
     },
     "metadata": {},
     "output_type": "display_data"
    },
    {
     "name": "stdout",
     "output_type": "stream",
     "text": [
      "immigration accuracy: 0.56831\n",
      "immigration macro f1: 0.56309\n",
      "immigration Macro f1: 0.51534\n",
      "immigration micro f1: 0.56831\n",
      "immigration precision: 0.72165\n",
      "immigration recall: 0.40076\n",
      "\n",
      "\n",
      "[[379  43]\n",
      " [343 138]]\n"
     ]
    },
    {
     "data": {
      "image/png": "[encoded data removed]",
      "text/plain": [
       "<Figure size 640x480 with 2 Axes>"
      ]
     },
     "metadata": {},
     "output_type": "display_data"
    },
    {
     "name": "stdout",
     "output_type": "stream",
     "text": [
      "healthcare accuracy: 0.57254\n",
      "healthcare macro f1: 0.53975\n",
      "healthcare Macro f1: 0.41692\n",
      "healthcare micro f1: 0.57254\n",
      "healthcare precision: 0.76243\n",
      "healthcare recall: 0.28690\n",
      "\n",
      "\n",
      "Average accuracy: 0.53433\n",
      "Average macro f1: 0.43377\n",
      "Average Macrof1: 0.21122\n",
      "Average micro f1: 0.53433\n",
      "Average precision: 0.70840\n",
      "Average recall: 0.15055\n"
     ]
    }
   ],
   "source": [
    "avg_accuracy = 0\n",
    "avg_recall = 0\n",
    "avg_precision = 0\n",
    "avg_f1 = 0\n",
    "avg_macrof1 = 0\n",
    "avg_microf1 = 0\n",
    "cms = []\n",
    "for url in urls:\n",
    "    topic = url.split('/')[-1]\n",
    "    cm, acc, precision, recall, f1, macrof1, microf1 = run_experiment(url) \n",
    "    avg_macrof1 += macrof1\n",
    "    avg_accuracy += acc\n",
    "    avg_precision += precision\n",
    "    avg_recall += recall\n",
    "    avg_f1 += f1\n",
    "    avg_microf1 += microf1\n",
    "    cms.append(cm)\n",
    "    print(f\"{topic} accuracy: {acc:.5f}\")\n",
    "    print(f\"{topic} macro f1: {macrof1:.5f}\")\n",
    "    print(f\"{topic} Macro f1: {f1:.5f}\")\n",
    "    print(f\"{topic} micro f1: {microf1:.5f}\")\n",
    "    print(f\"{topic} precision: {precision:.5f}\")\n",
    "    print(f\"{topic} recall: {recall:.5f}\\n\\n\")\n",
    "    \n",
    "    \n",
    "\n",
    "avg_accuracy /= len(urls)\n",
    "avg_recall /= len(urls)\n",
    "avg_precision /= len(urls)\n",
    "avg_f1 /= len(urls)\n",
    "avg_macrof1 /= len(urls)\n",
    "avg_microf1 /= len(urls)\n",
    "\n",
    "print(f\"Average accuracy: {avg_accuracy:.5f}\")\n",
    "print(f\"Average macro f1: {avg_macrof1:.5f}\")\n",
    "print(f\"Average Macrof1: {avg_f1:.5f}\")\n",
    "print(f\"Average micro f1: {avg_microf1:.5f}\")\n",
    "print(f\"Average precision: {avg_precision:.5f}\")\n",
    "print(f\"Average recall: {avg_recall:.5f}\")\n",
    "\n"
   ]
  },
  {
   "cell_type": "code",
   "execution_count": 14,
   "metadata": {},
   "outputs": [
    {
     "data": {
      "text/html": [
       "<div>\n",
       "<style scoped>\n",
       "    .dataframe tbody tr th:only-of-type {\n",
       "        vertical-align: middle;\n",
       "    }\n",
       "\n",
       "    .dataframe tbody tr th {\n",
       "        vertical-align: top;\n",
       "    }\n",
       "\n",
       "    .dataframe thead th {\n",
       "        text-align: right;\n",
       "    }\n",
       "</style>\n",
       "<table border=\"1\" class=\"dataframe\">\n",
       "  <thead>\n",
       "    <tr style=\"text-align: right;\">\n",
       "      <th></th>\n",
       "      <th>Predicted Left</th>\n",
       "      <th>Predicted Right</th>\n",
       "    </tr>\n",
       "  </thead>\n",
       "  <tbody>\n",
       "    <tr>\n",
       "      <th>Actual Left</th>\n",
       "      <td>3879</td>\n",
       "      <td>146</td>\n",
       "    </tr>\n",
       "    <tr>\n",
       "      <th>Actual Right</th>\n",
       "      <td>3510</td>\n",
       "      <td>394</td>\n",
       "    </tr>\n",
       "  </tbody>\n",
       "</table>\n",
       "</div>"
      ],
      "text/plain": [
       "              Predicted Left  Predicted Right\n",
       "Actual Left             3879              146\n",
       "Actual Right            3510              394"
      ]
     },
     "execution_count": 14,
     "metadata": {},
     "output_type": "execute_result"
    }
   ],
   "source": [
    "cm = sum(cms)\n",
    "results = pd.DataFrame(cm, columns=['Predicted Left', 'Predicted Right'], index=['Actual Left', 'Actual Right'])\n",
    "results"
   ]
  },
  {
   "cell_type": "code",
   "execution_count": 15,
   "metadata": {},
   "outputs": [
    {
     "data": {
      "text/html": [
       "<div>\n",
       "<style scoped>\n",
       "    .dataframe tbody tr th:only-of-type {\n",
       "        vertical-align: middle;\n",
       "    }\n",
       "\n",
       "    .dataframe tbody tr th {\n",
       "        vertical-align: top;\n",
       "    }\n",
       "\n",
       "    .dataframe thead th {\n",
       "        text-align: right;\n",
       "    }\n",
       "</style>\n",
       "<table border=\"1\" class=\"dataframe\">\n",
       "  <thead>\n",
       "    <tr style=\"text-align: right;\">\n",
       "      <th></th>\n",
       "      <th>Accuracy</th>\n",
       "      <th>Precision</th>\n",
       "      <th>Recall</th>\n",
       "      <th>F1</th>\n",
       "    </tr>\n",
       "  </thead>\n",
       "  <tbody>\n",
       "    <tr>\n",
       "      <th>Frequent Itemsets</th>\n",
       "      <td>0.534328</td>\n",
       "      <td>0.708395</td>\n",
       "      <td>0.150548</td>\n",
       "      <td>0.211217</td>\n",
       "    </tr>\n",
       "  </tbody>\n",
       "</table>\n",
       "</div>"
      ],
      "text/plain": [
       "                   Accuracy  Precision    Recall        F1\n",
       "Frequent Itemsets  0.534328   0.708395  0.150548  0.211217"
      ]
     },
     "execution_count": 15,
     "metadata": {},
     "output_type": "execute_result"
    }
   ],
   "source": [
    "cols = ['Accuracy', 'Precision', 'Recall', 'F1']\n",
    "vals = [[avg_accuracy, avg_precision, avg_recall, avg_f1]]\n",
    "data_metrics = pd.DataFrame(vals, columns=cols, index=['Frequent Itemsets'])\n",
    "data_metrics"
   ]
  },
  {
   "cell_type": "code",
   "execution_count": null,
   "metadata": {},
   "outputs": [],
   "source": []
  }
 ],
 "metadata": {
  "kernelspec": {
   "display_name": "Python 3",
   "language": "python",
   "name": "python3"
  },
  "language_info": {
   "codemirror_mode": {
    "name": "ipython",
    "version": 3
   },
   "file_extension": ".py",
   "mimetype": "text/x-python",
   "name": "python",
   "nbconvert_exporter": "python",
   "pygments_lexer": "ipython3",
   "version": "3.11.8"
  }
 },
 "nbformat": 4,
 "nbformat_minor": 2
}
