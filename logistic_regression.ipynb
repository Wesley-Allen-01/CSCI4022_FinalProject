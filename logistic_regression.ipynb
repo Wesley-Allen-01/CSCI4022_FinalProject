{
 "cells": [
  {
   "cell_type": "code",
   "execution_count": 2,
   "metadata": {},
   "outputs": [
    {
     "name": "stdout",
     "output_type": "stream",
     "text": [
      "Requirement already satisfied: scikit-learn in /usr/local/lib/python3.11/site-packages (1.4.2)\n",
      "Requirement already satisfied: numpy>=1.19.5 in /usr/local/lib/python3.11/site-packages (from scikit-learn) (1.26.4)\n",
      "Requirement already satisfied: scipy>=1.6.0 in /usr/local/lib/python3.11/site-packages (from scikit-learn) (1.13.0)\n",
      "Requirement already satisfied: joblib>=1.2.0 in /usr/local/lib/python3.11/site-packages (from scikit-learn) (1.4.0)\n",
      "Requirement already satisfied: threadpoolctl>=2.0.0 in /usr/local/lib/python3.11/site-packages (from scikit-learn) (3.5.0)\n",
      "Note: you may need to restart the kernel to use updated packages.\n"
     ]
    }
   ],
   "source": [
    "%pip install scikit-learn"
   ]
  },
  {
   "cell_type": "code",
   "execution_count": 3,
   "metadata": {},
   "outputs": [
    {
     "name": "stderr",
     "output_type": "stream",
     "text": [
      "[nltk_data] Downloading package stopwords to /Users/tavin/nltk_data...\n",
      "[nltk_data]   Package stopwords is already up-to-date!\n",
      "[nltk_data] Downloading package punkt to /Users/tavin/nltk_data...\n",
      "[nltk_data]   Package punkt is already up-to-date!\n"
     ]
    }
   ],
   "source": [
    "import stop_words as sw\n",
    "import pandas as pd\n",
    "from sklearn.feature_extraction.text import CountVectorizer\n",
    "from sklearn.linear_model import LogisticRegression\n",
    "pd.options.mode.chained_assignment = None"
   ]
  },
  {
   "cell_type": "code",
   "execution_count": 4,
   "metadata": {},
   "outputs": [],
   "source": [
    "urls = ['data/elections', 'data/politics', 'data/white_house', 'data/immigration', 'data/healthcare']"
   ]
  },
  {
   "cell_type": "code",
   "execution_count": 14,
   "metadata": {},
   "outputs": [],
   "source": [
    "def lr_predict_test(url):\n",
    "    data = pd.read_csv(f'{url}/train/{url.split(\"/\")[-1]}_train.csv')\n",
    "    data['stop_content'] = data['content'].apply(lambda x: ' '.join(sw.stop_words(x)))\n",
    "\n",
    "    biased_data = data[(data['bias'] == 0) | (data['bias'] == 2)]\n",
    "    biased_content = biased_data['stop_content']\n",
    "    biased_bow_vectorizer = CountVectorizer().fit(biased_content)\n",
    "    biased_bow = biased_bow_vectorizer.transform(biased_content).toarray()\n",
    "\n",
    "    lr = LogisticRegression(random_state=0).fit(biased_bow, biased_data['bias'])\n",
    "\n",
    "    test_data = pd.read_csv(f'{url}/test/{url.split(\"/\")[-1]}_test.csv')\n",
    "    test_data['stop_content'] = test_data['content'].apply(lambda x: ' '.join(sw.stop_words(x)))\n",
    "    test_biased_data = test_data[(test_data['bias'] == 0) | (test_data['bias'] == 2)]\n",
    "\n",
    "    test_biased_data['prediction'] = lr.predict(biased_bow_vectorizer.transform(test_biased_data['stop_content']))\n",
    "\n",
    "    confusion_matrix = pd.DataFrame(0, ['Predicted Left', 'Predicted Right'], ['Actual Left', 'Actual Right'])\n",
    "    for prediction, actual in [[0,0], [0,2], [2,0], [2,2]]:\n",
    "        confusion_matrix[f'Actual {\"Left\" if actual == 0 else \"Right\"}'][f'Predicted {\"Left\" if prediction == 0 else \"Right\"}'] = \\\n",
    "            test_biased_data[(test_biased_data['prediction'] == prediction) & (test_biased_data['bias'] == actual)].count()['prediction']\n",
    "    print(f'For {url}:\\n{confusion_matrix}\\n')\n",
    "    return confusion_matrix"
   ]
  },
  {
   "cell_type": "code",
   "execution_count": 15,
   "metadata": {},
   "outputs": [
    {
     "name": "stdout",
     "output_type": "stream",
     "text": [
      "For data/elections:\n",
      "                 Actual Left  Actual Right\n",
      "Predicted Left          1402           515\n",
      "Predicted Right          533           961\n",
      "For data/politics:\n",
      "                 Actual Left  Actual Right\n",
      "Predicted Left           414           168\n",
      "Predicted Right          350           686\n",
      "For data/white_house:\n",
      "                 Actual Left  Actual Right\n",
      "Predicted Left           279           161\n",
      "Predicted Right          234           408\n",
      "For data/immigration:\n",
      "                 Actual Left  Actual Right\n",
      "Predicted Left           263           117\n",
      "Predicted Right          128           407\n",
      "For data/healthcare:\n",
      "                 Actual Left  Actual Right\n",
      "Predicted Left           226            78\n",
      "Predicted Right          196           403\n"
     ]
    }
   ],
   "source": [
    "confusion_matrices = {url: lr_predict_test(url) for url in urls}"
   ]
  }
 ],
 "metadata": {
  "kernelspec": {
   "display_name": "Python 3",
   "language": "python",
   "name": "python3"
  },
  "language_info": {
   "codemirror_mode": {
    "name": "ipython",
    "version": 3
   },
   "file_extension": ".py",
   "mimetype": "text/x-python",
   "name": "python",
   "nbconvert_exporter": "python",
   "pygments_lexer": "ipython3",
   "version": "3.11.8"
  }
 },
 "nbformat": 4,
 "nbformat_minor": 2
}
