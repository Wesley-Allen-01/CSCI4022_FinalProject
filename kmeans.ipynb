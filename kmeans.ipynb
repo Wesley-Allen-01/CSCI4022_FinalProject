{
 "cells": [
  {
   "cell_type": "code",
   "execution_count": 6,
   "metadata": {},
   "outputs": [
    {
     "name": "stdout",
     "output_type": "stream",
     "text": [
      "Requirement already satisfied: scikit-learn in /usr/local/lib/python3.11/site-packages (1.4.2)\n",
      "Requirement already satisfied: numpy>=1.19.5 in /usr/local/lib/python3.11/site-packages (from scikit-learn) (1.26.4)\n",
      "Requirement already satisfied: scipy>=1.6.0 in /usr/local/lib/python3.11/site-packages (from scikit-learn) (1.13.0)\n",
      "Requirement already satisfied: joblib>=1.2.0 in /usr/local/lib/python3.11/site-packages (from scikit-learn) (1.4.0)\n",
      "Requirement already satisfied: threadpoolctl>=2.0.0 in /usr/local/lib/python3.11/site-packages (from scikit-learn) (3.5.0)\n",
      "Note: you may need to restart the kernel to use updated packages.\n"
     ]
    }
   ],
   "source": [
    "%pip install scikit-learn"
   ]
  },
  {
   "cell_type": "code",
   "execution_count": 7,
   "metadata": {},
   "outputs": [],
   "source": [
    "import stop_words as sw\n",
    "import pandas as pd\n",
    "from sklearn.feature_extraction.text import CountVectorizer\n",
    "from sklearn.cluster import KMeans\n",
    "pd.options.mode.chained_assignment = None"
   ]
  },
  {
   "cell_type": "code",
   "execution_count": 8,
   "metadata": {},
   "outputs": [],
   "source": [
    "urls = ['data/elections', 'data/politics', 'data/white_house', 'data/immigration', 'data/healthcare']"
   ]
  },
  {
   "cell_type": "code",
   "execution_count": 9,
   "metadata": {},
   "outputs": [],
   "source": [
    "def kmeans_predict_test(url):\n",
    "    data = pd.read_csv(f'{url}/train/{url.split(\"/\")[-1]}_train.csv')\n",
    "    data['stop_content'] = data['content'].apply(lambda x: ' '.join(sw.stop_words(x)))\n",
    "\n",
    "    biased_data = data[(data['bias'] == 0) | (data['bias'] == 2)]\n",
    "    biased_content = biased_data['stop_content']\n",
    "    biased_bow_vectorizer = CountVectorizer().fit(biased_content)\n",
    "    biased_bow = biased_bow_vectorizer.transform(biased_content).toarray()\n",
    "\n",
    "    kmeans = KMeans(n_clusters=2, init='random').fit(biased_bow)\n",
    "\n",
    "    test_data = pd.read_csv(f'{url}/test/{url.split(\"/\")[-1]}_test.csv')\n",
    "    test_data['stop_content'] = test_data['content'].apply(lambda x: ' '.join(sw.stop_words(x)))\n",
    "    test_biased_data = test_data[(test_data['bias'] == 0) | (test_data['bias'] == 2)]\n",
    "\n",
    "    test_biased_data['prediction'] = kmeans.predict(biased_bow_vectorizer.transform(test_biased_data['stop_content']))\n",
    "\n",
    "    confusion_matrix = pd.DataFrame(0, ['Predicted 1', 'Predicted 0'], ['Actual Left', 'Actual Right'])\n",
    "    for prediction, actual in [[0,0], [0,2], [1,0], [1,2]]:\n",
    "        confusion_matrix[f'Actual {\"Left\" if actual == 0 else \"Right\"}'][f'Predicted {prediction}'] = \\\n",
    "            test_biased_data[(test_biased_data['prediction'] == prediction) & (test_biased_data['bias'] == actual)].count()['prediction']\n",
    "    print(f'For {url}:\\n{confusion_matrix}\\n')\n",
    "    return confusion_matrix"
   ]
  },
  {
   "cell_type": "code",
   "execution_count": 11,
   "metadata": {},
   "outputs": [
    {
     "name": "stdout",
     "output_type": "stream",
     "text": [
      "For data/elections:\n",
      "             Actual Left  Actual Right\n",
      "Predicted 1         1594          1352\n",
      "Predicted 0          341           124\n",
      "\n",
      "For data/politics:\n",
      "             Actual Left  Actual Right\n",
      "Predicted 1          250           117\n",
      "Predicted 0          514           737\n",
      "\n",
      "For data/white_house:\n",
      "             Actual Left  Actual Right\n",
      "Predicted 1            1             0\n",
      "Predicted 0          512           569\n",
      "\n",
      "For data/immigration:\n",
      "             Actual Left  Actual Right\n",
      "Predicted 1          371           521\n",
      "Predicted 0           20             3\n",
      "\n",
      "For data/healthcare:\n",
      "             Actual Left  Actual Right\n",
      "Predicted 1          115            45\n",
      "Predicted 0          307           436\n",
      "\n"
     ]
    }
   ],
   "source": [
    "confusion_matrices = {url: kmeans_predict_test(url) for url in urls}"
   ]
  }
 ],
 "metadata": {
  "kernelspec": {
   "display_name": "Python 3",
   "language": "python",
   "name": "python3"
  },
  "language_info": {
   "codemirror_mode": {
    "name": "ipython",
    "version": 3
   },
   "file_extension": ".py",
   "mimetype": "text/x-python",
   "name": "python",
   "nbconvert_exporter": "python",
   "pygments_lexer": "ipython3",
   "version": "3.11.8"
  }
 },
 "nbformat": 4,
 "nbformat_minor": 2
}
